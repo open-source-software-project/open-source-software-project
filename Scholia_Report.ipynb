{
 "cells": [
  {
   "cell_type": "markdown",
   "id": "04b07b1b",
   "metadata": {},
   "source": [
    "# Wikidata linked to Github data"
   ]
  },
  {
   "cell_type": "markdown",
   "id": "05ddd657",
   "metadata": {},
   "source": [
    "This notebook explores a sample of individuals from academia who are found in Wikidata and who are linked to Github data. "
   ]
  },
  {
   "cell_type": "markdown",
   "id": "b4ab1d21",
   "metadata": {},
   "source": [
    "Table of contents \n",
    "- Exploration by country\n",
    "    - Number of users\n",
    "    - Number of repositories\n",
    "- Exploration by gender \n",
    "    - Number of repositories \n",
    "    - Number of commits \n",
    "    - Number of additions \n",
    "    - Contributions to repository owners \n",
    "    - Collaborations \n",
    "    - Degree, number of connections"
   ]
  },
  {
   "cell_type": "markdown",
   "id": "5e768a1e",
   "metadata": {},
   "source": [
    "# Exploration by country"
   ]
  },
  {
   "cell_type": "markdown",
   "id": "fef344f0",
   "metadata": {},
   "source": [
    "## Number of users and number of repositories by country, top 10 results"
   ]
  },
  {
   "cell_type": "markdown",
   "id": "6e1c91ec",
   "metadata": {},
   "source": [
    "Note: not all users have the country reported. The country was pulled based on the Github metadata. ~ 14.18% of users is missing country. \"Missing\" is included as a category."
   ]
  },
  {
   "cell_type": "code",
   "execution_count": 79,
   "id": "c6eb6086",
   "metadata": {
    "jupyter": {
     "source_hidden": true
    }
   },
   "outputs": [
    {
     "data": {
      "image/png": "[encoded data removed]",
      "text/plain": [
       "<Figure size 1368x432 with 2 Axes>"
      ]
     },
     "metadata": {
      "needs_background": "light"
     },
     "output_type": "display_data"
    }
   ],
   "source": [
    "fig, (ax0, ax1) = plt.subplots(1,2, figsize=(19,6))\n",
    "number_users.plot(x='country', y='number_users', kind='barh', ax=ax0, title = 'Number of users by country').invert_yaxis()\n",
    "number_slugs.plot(x='country', y='number_slugs', color='orange', kind='barh',ax=ax1, title = 'Number of repositories by country').invert_yaxis()\n",
    "plt.ylabel('')\n",
    "plt.show()"
   ]
  },
  {
   "cell_type": "markdown",
   "id": "343f6170",
   "metadata": {},
   "source": [
    "Note on the number of repositories: This is based on the table where each user has the corresponding total number of slugs, and the counts are taken by country based on that number. There could be overlaps between these repositories (i.e. the same repository counted more than one time), because here we do not take into account if the users contributed to the same repository. It is based on the number of repositories by user. "
   ]
  },
  {
   "cell_type": "markdown",
   "id": "207d4d01",
   "metadata": {},
   "source": [
    "Summary: Based on the tables above, we can see that the top countries by number of users in the Wikidata sample is United States, UK, and Germany, but by the number of repositories (i.e. productivity) the top three countries are slightly different: United States, Germany, and Sweden, and Japan appears in the top 10, which is interesting to see. We plan to look further into different measures of productivity of users by country."
   ]
  },
  {
   "cell_type": "markdown",
   "id": "2e8fff43",
   "metadata": {},
   "source": [
    "# Exploration by gender"
   ]
  },
  {
   "cell_type": "markdown",
   "id": "1c7e5cce",
   "metadata": {},
   "source": [
    "We created a gender variable in the Wikidata sample based on the following logic: \n",
    "- if gender is *not missing* in the Wikidata, we use that as the basis/true data (as the Wikidata is self-reported/crowdsourced). \n",
    "- where gender is *missing* in the Wikidata, we impute it with the `gender-guesser` Python package: https://pypi.org/project/gender-guesser/\n",
    "    - this package has the following categories: \n",
    "        - `male`\n",
    "        - `female`\n",
    "        - `mostly_male`\n",
    "        - `mostly_female`\n",
    "        - `unknown`\n",
    "        - `andy` (androgynous)\n",
    "        - `non-binary`\n",
    "\n",
    "We included `mostly_male` and `mostly_female` in the respective `male` and `female` categories; `andy` and `non-binary` are included in the `other` category, `unknown` is the category on its own."
   ]
  },
  {
   "cell_type": "markdown",
   "id": "a9778ffe",
   "metadata": {},
   "source": [
    "Breakdown by the finalized gender categories:"
   ]
  },
  {
   "cell_type": "code",
   "execution_count": 73,
   "id": "d154bc9a",
   "metadata": {},
   "outputs": [
    {
     "data": {
      "text/html": [
       "<div>\n",
       "<style scoped>\n",
       "    .dataframe tbody tr th:only-of-type {\n",
       "        vertical-align: middle;\n",
       "    }\n",
       "\n",
       "    .dataframe tbody tr th {\n",
       "        vertical-align: top;\n",
       "    }\n",
       "\n",
       "    .dataframe thead th {\n",
       "        text-align: right;\n",
       "    }\n",
       "</style>\n",
       "<table border=\"1\" class=\"dataframe\">\n",
       "  <thead>\n",
       "    <tr style=\"text-align: right;\">\n",
       "      <th></th>\n",
       "      <th>gender_updated</th>\n",
       "      <th>login</th>\n",
       "      <th>total</th>\n",
       "      <th>percentage</th>\n",
       "    </tr>\n",
       "  </thead>\n",
       "  <tbody>\n",
       "    <tr>\n",
       "      <th>1</th>\n",
       "      <td>male</td>\n",
       "      <td>1086</td>\n",
       "      <td>1481</td>\n",
       "      <td>73.33</td>\n",
       "    </tr>\n",
       "    <tr>\n",
       "      <th>0</th>\n",
       "      <td>female</td>\n",
       "      <td>186</td>\n",
       "      <td>1481</td>\n",
       "      <td>12.56</td>\n",
       "    </tr>\n",
       "    <tr>\n",
       "      <th>3</th>\n",
       "      <td>unknown</td>\n",
       "      <td>170</td>\n",
       "      <td>1481</td>\n",
       "      <td>11.48</td>\n",
       "    </tr>\n",
       "    <tr>\n",
       "      <th>2</th>\n",
       "      <td>other</td>\n",
       "      <td>39</td>\n",
       "      <td>1481</td>\n",
       "      <td>2.63</td>\n",
       "    </tr>\n",
       "  </tbody>\n",
       "</table>\n",
       "</div>"
      ],
      "text/plain": [
       "  gender_updated  login  total  percentage\n",
       "1           male   1086   1481       73.33\n",
       "0         female    186   1481       12.56\n",
       "3        unknown    170   1481       11.48\n",
       "2          other     39   1481        2.63"
      ]
     },
     "execution_count": 73,
     "metadata": {},
     "output_type": "execute_result"
    }
   ],
   "source": [
    "user_gender"
   ]
  },
  {
   "cell_type": "markdown",
   "id": "a5ab5c32",
   "metadata": {},
   "source": [
    "In this sample 12.56% is categorized is female. According to this source: \"In a 2013 survey of the more than 2000 open source developers who indicated a gender, only 11.2% were women (Arjona-Reina, Robles & Dueas, 2014).\" \n",
    "Article source that cited this survey: https://peerj.com/articles/cs-111/"
   ]
  },
  {
   "cell_type": "markdown",
   "id": "4d258796",
   "metadata": {},
   "source": [
    "We wanted to see the descriptive statistics and exploratory visualizations by number of repositories, commits, and additions (lines in the code added) by gender."
   ]
  },
  {
   "cell_type": "markdown",
   "id": "3bda4108",
   "metadata": {},
   "source": [
    "According to the same article source as above, men tend to contribute to more repositories than women (broad, more extensive contributions), but perhaps women tend to focus their efforts more on fewer repositories, as evidenced by a higher activity on those (narrow, more intensive contributions).\n",
    "- In this article, the authors found that women tend to have higher acceptance rates of their pull requests, and they had the following hypothesis: \"One possible explanation for women’s higher acceptance rates is that they are focusing their efforts more than men; perhaps their success is explained by doing pull requests on few projects, whereas men tend to do pull requests on more projects. First, the data do suggest that women tend to contribute to fewer projects than men. \n",
    "Source: https://peerj.com/articles/cs-111/#utable-1"
   ]
  },
  {
   "cell_type": "markdown",
   "id": "b38f4eef",
   "metadata": {},
   "source": [
    "Below we are doing the exploration of this topic in the number of repositories, commits, and line additions by gender:"
   ]
  },
  {
   "cell_type": "markdown",
   "id": "2e3eb5d7",
   "metadata": {},
   "source": [
    "Note on the data pre-processing: one user didn't have information on number of slugs, commits, additions. Total population for the analysis below: 1,480 individuals. Two users had duplicate entries, as the information on the full name was slightly different - duplicate entries were removed, as it didn't influence the assignment of gender for those users."
   ]
  },
  {
   "cell_type": "markdown",
   "id": "878ad835",
   "metadata": {},
   "source": [
    "## Number of repositories by gender"
   ]
  },
  {
   "cell_type": "markdown",
   "id": "8fbddb97",
   "metadata": {},
   "source": [
    "Descriptive statistics for number of repositories"
   ]
  },
  {
   "cell_type": "markdown",
   "id": "75abdfd1",
   "metadata": {},
   "source": [
    "The average number of repositories is higher for males than females, but the overall distribution is long-tailed, not normal (please see the visualizations below). We are currently investigating what would be the optimal way to compare the differences, taking into account the long-tailed distributions."
   ]
  },
  {
   "cell_type": "code",
   "execution_count": 212,
   "id": "e9ab2984",
   "metadata": {
    "jupyter": {
     "source_hidden": true
    }
   },
   "outputs": [
    {
     "data": {
      "text/html": [
       "<div>\n",
       "<style scoped>\n",
       "    .dataframe tbody tr th:only-of-type {\n",
       "        vertical-align: middle;\n",
       "    }\n",
       "\n",
       "    .dataframe tbody tr th {\n",
       "        vertical-align: top;\n",
       "    }\n",
       "\n",
       "    .dataframe thead th {\n",
       "        text-align: right;\n",
       "    }\n",
       "</style>\n",
       "<table border=\"1\" class=\"dataframe\">\n",
       "  <thead>\n",
       "    <tr style=\"text-align: right;\">\n",
       "      <th></th>\n",
       "      <th>count</th>\n",
       "      <th>mean</th>\n",
       "      <th>std</th>\n",
       "      <th>min</th>\n",
       "      <th>25%</th>\n",
       "      <th>50%</th>\n",
       "      <th>75%</th>\n",
       "      <th>max</th>\n",
       "    </tr>\n",
       "    <tr>\n",
       "      <th>gender_updated</th>\n",
       "      <th></th>\n",
       "      <th></th>\n",
       "      <th></th>\n",
       "      <th></th>\n",
       "      <th></th>\n",
       "      <th></th>\n",
       "      <th></th>\n",
       "      <th></th>\n",
       "    </tr>\n",
       "  </thead>\n",
       "  <tbody>\n",
       "    <tr>\n",
       "      <th>female</th>\n",
       "      <td>185.0</td>\n",
       "      <td>10.470270</td>\n",
       "      <td>37.252523</td>\n",
       "      <td>1.0</td>\n",
       "      <td>1.0</td>\n",
       "      <td>4.0</td>\n",
       "      <td>9.0</td>\n",
       "      <td>483.0</td>\n",
       "    </tr>\n",
       "    <tr>\n",
       "      <th>male</th>\n",
       "      <td>1086.0</td>\n",
       "      <td>17.151934</td>\n",
       "      <td>76.399580</td>\n",
       "      <td>1.0</td>\n",
       "      <td>3.0</td>\n",
       "      <td>6.0</td>\n",
       "      <td>15.0</td>\n",
       "      <td>2020.0</td>\n",
       "    </tr>\n",
       "    <tr>\n",
       "      <th>other</th>\n",
       "      <td>39.0</td>\n",
       "      <td>6.025641</td>\n",
       "      <td>8.044243</td>\n",
       "      <td>1.0</td>\n",
       "      <td>1.0</td>\n",
       "      <td>3.0</td>\n",
       "      <td>6.0</td>\n",
       "      <td>42.0</td>\n",
       "    </tr>\n",
       "    <tr>\n",
       "      <th>unknown</th>\n",
       "      <td>170.0</td>\n",
       "      <td>7.970588</td>\n",
       "      <td>11.688474</td>\n",
       "      <td>1.0</td>\n",
       "      <td>2.0</td>\n",
       "      <td>4.0</td>\n",
       "      <td>8.0</td>\n",
       "      <td>73.0</td>\n",
       "    </tr>\n",
       "  </tbody>\n",
       "</table>\n",
       "</div>"
      ],
      "text/plain": [
       "                 count       mean        std  min  25%  50%   75%     max\n",
       "gender_updated                                                           \n",
       "female           185.0  10.470270  37.252523  1.0  1.0  4.0   9.0   483.0\n",
       "male            1086.0  17.151934  76.399580  1.0  3.0  6.0  15.0  2020.0\n",
       "other             39.0   6.025641   8.044243  1.0  1.0  3.0   6.0    42.0\n",
       "unknown          170.0   7.970588  11.688474  1.0  2.0  4.0   8.0    73.0"
      ]
     },
     "execution_count": 212,
     "metadata": {},
     "output_type": "execute_result"
    }
   ],
   "source": [
    "user_node.groupby('gender_updated')['number_slugs'].describe()"
   ]
  },
  {
   "cell_type": "markdown",
   "id": "22fbc0a4",
   "metadata": {},
   "source": [
    "Boxplot for number of repositories"
   ]
  },
  {
   "cell_type": "code",
   "execution_count": 217,
   "id": "e32fb90b",
   "metadata": {
    "jupyter": {
     "source_hidden": true
    }
   },
   "outputs": [
    {
     "data": {
      "text/plain": [
       "<AxesSubplot:xlabel='gender_updated', ylabel='number_slugs'>"
      ]
     },
     "execution_count": 217,
     "metadata": {},
     "output_type": "execute_result"
    },
    {
     "data": {
      "image/png": "[encoded data removed]",
      "text/plain": [
       "<Figure size 432x288 with 1 Axes>"
      ]
     },
     "metadata": {
      "needs_background": "light"
     },
     "output_type": "display_data"
    }
   ],
   "source": [
    "plt.ticklabel_format(style='plain', axis='x')\n",
    "seaborn.boxplot(x='gender_updated', y='number_slugs', \n",
    "            data=user_node)"
   ]
  },
  {
   "cell_type": "markdown",
   "id": "82a85931",
   "metadata": {},
   "source": [
    "Density plot for number of repositories"
   ]
  },
  {
   "cell_type": "code",
   "execution_count": 222,
   "id": "a8fa5000",
   "metadata": {
    "jupyter": {
     "source_hidden": true
    }
   },
   "outputs": [
    {
     "data": {
      "image/png": "[encoded data removed]",
      "text/plain": [
       "<Figure size 432x288 with 1 Axes>"
      ]
     },
     "metadata": {
      "needs_background": "light"
     },
     "output_type": "display_data"
    }
   ],
   "source": [
    "seaborn.kdeplot(x='number_slugs',data=user_node,hue='gender_updated')\n",
    "plt.show()"
   ]
  },
  {
   "cell_type": "markdown",
   "id": "b55d8d17",
   "metadata": {},
   "source": [
    "Logged histogram for number of repositories"
   ]
  },
  {
   "cell_type": "code",
   "execution_count": 218,
   "id": "1c93531f",
   "metadata": {
    "jupyter": {
     "source_hidden": true
    }
   },
   "outputs": [
    {
     "data": {
      "image/png": "[encoded data removed]",
      "text/plain": [
       "<Figure size 432x288 with 1 Axes>"
      ]
     },
     "metadata": {
      "needs_background": "light"
     },
     "output_type": "display_data"
    }
   ],
   "source": [
    "ax = seaborn.histplot(x='number_slugs',data=user_node,hue='gender_updated')\n",
    "ax.set_xscale('log')\n",
    "ax.set_yscale('log')\n",
    "plt.show()"
   ]
  },
  {
   "cell_type": "markdown",
   "id": "404cfbe9",
   "metadata": {},
   "source": [
    "## Number of commits by gender"
   ]
  },
  {
   "cell_type": "markdown",
   "id": "b9c72c98",
   "metadata": {},
   "source": [
    "Descriptive statistics for number of commits"
   ]
  },
  {
   "cell_type": "markdown",
   "id": "c7894519",
   "metadata": {},
   "source": [
    "The average number of commmits is higher for males than females, however, as mentioned above, the overall distribution is also long-tailed, not normal (please see the visualizations below). We are currently investigating what would be the optimal way to compare the differences, taking into account the long-tailed distributions."
   ]
  },
  {
   "cell_type": "markdown",
   "id": "6b96505f",
   "metadata": {},
   "source": [
    "We would also like to look into whether women tend to commit more intensively to the same repositories, while men commit more extensively, to different repositories."
   ]
  },
  {
   "cell_type": "code",
   "execution_count": 223,
   "id": "1cdc1744",
   "metadata": {
    "jupyter": {
     "source_hidden": true
    }
   },
   "outputs": [
    {
     "data": {
      "text/html": [
       "<div>\n",
       "<style scoped>\n",
       "    .dataframe tbody tr th:only-of-type {\n",
       "        vertical-align: middle;\n",
       "    }\n",
       "\n",
       "    .dataframe tbody tr th {\n",
       "        vertical-align: top;\n",
       "    }\n",
       "\n",
       "    .dataframe thead th {\n",
       "        text-align: right;\n",
       "    }\n",
       "</style>\n",
       "<table border=\"1\" class=\"dataframe\">\n",
       "  <thead>\n",
       "    <tr style=\"text-align: right;\">\n",
       "      <th></th>\n",
       "      <th>count</th>\n",
       "      <th>mean</th>\n",
       "      <th>std</th>\n",
       "      <th>min</th>\n",
       "      <th>25%</th>\n",
       "      <th>50%</th>\n",
       "      <th>75%</th>\n",
       "      <th>max</th>\n",
       "    </tr>\n",
       "    <tr>\n",
       "      <th>gender_updated</th>\n",
       "      <th></th>\n",
       "      <th></th>\n",
       "      <th></th>\n",
       "      <th></th>\n",
       "      <th></th>\n",
       "      <th></th>\n",
       "      <th></th>\n",
       "      <th></th>\n",
       "    </tr>\n",
       "  </thead>\n",
       "  <tbody>\n",
       "    <tr>\n",
       "      <th>female</th>\n",
       "      <td>185.0</td>\n",
       "      <td>383.994595</td>\n",
       "      <td>1297.765695</td>\n",
       "      <td>1.0</td>\n",
       "      <td>15.00</td>\n",
       "      <td>66.0</td>\n",
       "      <td>291.00</td>\n",
       "      <td>13688.0</td>\n",
       "    </tr>\n",
       "    <tr>\n",
       "      <th>male</th>\n",
       "      <td>1086.0</td>\n",
       "      <td>611.187845</td>\n",
       "      <td>1322.171883</td>\n",
       "      <td>1.0</td>\n",
       "      <td>42.00</td>\n",
       "      <td>167.0</td>\n",
       "      <td>551.25</td>\n",
       "      <td>18121.0</td>\n",
       "    </tr>\n",
       "    <tr>\n",
       "      <th>other</th>\n",
       "      <td>39.0</td>\n",
       "      <td>285.948718</td>\n",
       "      <td>633.138671</td>\n",
       "      <td>2.0</td>\n",
       "      <td>23.00</td>\n",
       "      <td>55.0</td>\n",
       "      <td>248.50</td>\n",
       "      <td>3411.0</td>\n",
       "    </tr>\n",
       "    <tr>\n",
       "      <th>unknown</th>\n",
       "      <td>170.0</td>\n",
       "      <td>310.511765</td>\n",
       "      <td>713.721758</td>\n",
       "      <td>1.0</td>\n",
       "      <td>28.25</td>\n",
       "      <td>87.5</td>\n",
       "      <td>255.50</td>\n",
       "      <td>4967.0</td>\n",
       "    </tr>\n",
       "  </tbody>\n",
       "</table>\n",
       "</div>"
      ],
      "text/plain": [
       "                 count        mean          std  min    25%    50%     75%  \\\n",
       "gender_updated                                                               \n",
       "female           185.0  383.994595  1297.765695  1.0  15.00   66.0  291.00   \n",
       "male            1086.0  611.187845  1322.171883  1.0  42.00  167.0  551.25   \n",
       "other             39.0  285.948718   633.138671  2.0  23.00   55.0  248.50   \n",
       "unknown          170.0  310.511765   713.721758  1.0  28.25   87.5  255.50   \n",
       "\n",
       "                    max  \n",
       "gender_updated           \n",
       "female          13688.0  \n",
       "male            18121.0  \n",
       "other            3411.0  \n",
       "unknown          4967.0  "
      ]
     },
     "execution_count": 223,
     "metadata": {},
     "output_type": "execute_result"
    }
   ],
   "source": [
    "user_node.groupby('gender_updated')['number_commits'].describe()"
   ]
  },
  {
   "cell_type": "markdown",
   "id": "8f456f15",
   "metadata": {},
   "source": [
    "Boxplot for number of commits"
   ]
  },
  {
   "cell_type": "code",
   "execution_count": 224,
   "id": "23e282f1",
   "metadata": {
    "jupyter": {
     "source_hidden": true
    }
   },
   "outputs": [
    {
     "data": {
      "text/plain": [
       "<AxesSubplot:xlabel='gender_updated', ylabel='number_commits'>"
      ]
     },
     "execution_count": 224,
     "metadata": {},
     "output_type": "execute_result"
    },
    {
     "data": {
      "image/png": "[encoded data removed]",
      "text/plain": [
       "<Figure size 432x288 with 1 Axes>"
      ]
     },
     "metadata": {
      "needs_background": "light"
     },
     "output_type": "display_data"
    }
   ],
   "source": [
    "plt.ticklabel_format(style='plain', axis='x')\n",
    "seaborn.boxplot(x='gender_updated', y='number_commits', \n",
    "            data=user_node)"
   ]
  },
  {
   "cell_type": "markdown",
   "id": "795daf29",
   "metadata": {},
   "source": [
    "Logged histogram for number of commits"
   ]
  },
  {
   "cell_type": "code",
   "execution_count": 225,
   "id": "09d35656",
   "metadata": {
    "jupyter": {
     "source_hidden": true
    }
   },
   "outputs": [
    {
     "data": {
      "image/png": "[encoded data removed]",
      "text/plain": [
       "<Figure size 432x288 with 1 Axes>"
      ]
     },
     "metadata": {
      "needs_background": "light"
     },
     "output_type": "display_data"
    }
   ],
   "source": [
    "ax = seaborn.histplot(x='number_commits',data=user_node,hue='gender_updated')\n",
    "ax.set_xscale('log')\n",
    "ax.set_yscale('log')\n",
    "plt.show()"
   ]
  },
  {
   "cell_type": "markdown",
   "id": "75556d02",
   "metadata": {},
   "source": [
    "Density plot for number of commits"
   ]
  },
  {
   "cell_type": "code",
   "execution_count": 226,
   "id": "a6a58065",
   "metadata": {
    "jupyter": {
     "source_hidden": true
    }
   },
   "outputs": [
    {
     "data": {
      "image/png": "[encoded data removed]",
      "text/plain": [
       "<Figure size 432x288 with 1 Axes>"
      ]
     },
     "metadata": {
      "needs_background": "light"
     },
     "output_type": "display_data"
    }
   ],
   "source": [
    "seaborn.kdeplot(x='number_commits',data=user_node,hue='gender_updated')\n",
    "plt.show()"
   ]
  },
  {
   "cell_type": "markdown",
   "id": "12ab26bb",
   "metadata": {},
   "source": [
    "## Number of additions by gender"
   ]
  },
  {
   "cell_type": "markdown",
   "id": "2e6fd253",
   "metadata": {},
   "source": [
    "The average number of lines added is higher for females, but, as mentioned above, the distribution is not normal; outliers may be pulling the mean higher."
   ]
  },
  {
   "cell_type": "code",
   "execution_count": 227,
   "id": "32c5b430",
   "metadata": {},
   "outputs": [
    {
     "data": {
      "text/html": [
       "<div>\n",
       "<style scoped>\n",
       "    .dataframe tbody tr th:only-of-type {\n",
       "        vertical-align: middle;\n",
       "    }\n",
       "\n",
       "    .dataframe tbody tr th {\n",
       "        vertical-align: top;\n",
       "    }\n",
       "\n",
       "    .dataframe thead th {\n",
       "        text-align: right;\n",
       "    }\n",
       "</style>\n",
       "<table border=\"1\" class=\"dataframe\">\n",
       "  <thead>\n",
       "    <tr style=\"text-align: right;\">\n",
       "      <th></th>\n",
       "      <th>count</th>\n",
       "      <th>mean</th>\n",
       "      <th>std</th>\n",
       "      <th>min</th>\n",
       "      <th>25%</th>\n",
       "      <th>50%</th>\n",
       "      <th>75%</th>\n",
       "      <th>max</th>\n",
       "    </tr>\n",
       "    <tr>\n",
       "      <th>gender_updated</th>\n",
       "      <th></th>\n",
       "      <th></th>\n",
       "      <th></th>\n",
       "      <th></th>\n",
       "      <th></th>\n",
       "      <th></th>\n",
       "      <th></th>\n",
       "      <th></th>\n",
       "    </tr>\n",
       "  </thead>\n",
       "  <tbody>\n",
       "    <tr>\n",
       "      <th>female</th>\n",
       "      <td>185.0</td>\n",
       "      <td>2026532.3</td>\n",
       "      <td>12308593.4</td>\n",
       "      <td>0.0</td>\n",
       "      <td>1445.0</td>\n",
       "      <td>29491.0</td>\n",
       "      <td>271713.0</td>\n",
       "      <td>149080533.0</td>\n",
       "    </tr>\n",
       "    <tr>\n",
       "      <th>male</th>\n",
       "      <td>1086.0</td>\n",
       "      <td>1422974.8</td>\n",
       "      <td>5328611.7</td>\n",
       "      <td>0.0</td>\n",
       "      <td>13099.5</td>\n",
       "      <td>122162.5</td>\n",
       "      <td>721692.2</td>\n",
       "      <td>97394457.0</td>\n",
       "    </tr>\n",
       "    <tr>\n",
       "      <th>other</th>\n",
       "      <td>39.0</td>\n",
       "      <td>672802.3</td>\n",
       "      <td>2295155.6</td>\n",
       "      <td>125.0</td>\n",
       "      <td>7319.0</td>\n",
       "      <td>27019.0</td>\n",
       "      <td>282055.0</td>\n",
       "      <td>13876413.0</td>\n",
       "    </tr>\n",
       "    <tr>\n",
       "      <th>unknown</th>\n",
       "      <td>170.0</td>\n",
       "      <td>1171781.1</td>\n",
       "      <td>4047907.6</td>\n",
       "      <td>0.0</td>\n",
       "      <td>7936.8</td>\n",
       "      <td>67547.0</td>\n",
       "      <td>387783.5</td>\n",
       "      <td>41747156.0</td>\n",
       "    </tr>\n",
       "  </tbody>\n",
       "</table>\n",
       "</div>"
      ],
      "text/plain": [
       "                 count       mean         std    min      25%       50%  \\\n",
       "gender_updated                                                            \n",
       "female           185.0  2026532.3  12308593.4    0.0   1445.0   29491.0   \n",
       "male            1086.0  1422974.8   5328611.7    0.0  13099.5  122162.5   \n",
       "other             39.0   672802.3   2295155.6  125.0   7319.0   27019.0   \n",
       "unknown          170.0  1171781.1   4047907.6    0.0   7936.8   67547.0   \n",
       "\n",
       "                     75%          max  \n",
       "gender_updated                         \n",
       "female          271713.0  149080533.0  \n",
       "male            721692.2   97394457.0  \n",
       "other           282055.0   13876413.0  \n",
       "unknown         387783.5   41747156.0  "
      ]
     },
     "execution_count": 227,
     "metadata": {},
     "output_type": "execute_result"
    }
   ],
   "source": [
    "user_node.groupby('gender_updated')['number_additions'].describe().round(1)"
   ]
  },
  {
   "cell_type": "markdown",
   "id": "8998e9f9",
   "metadata": {},
   "source": [
    "Boxplot for number of additions"
   ]
  },
  {
   "cell_type": "code",
   "execution_count": 228,
   "id": "f6834e3b",
   "metadata": {
    "jupyter": {
     "source_hidden": true
    }
   },
   "outputs": [
    {
     "data": {
      "text/plain": [
       "<AxesSubplot:xlabel='gender_updated', ylabel='number_additions'>"
      ]
     },
     "execution_count": 228,
     "metadata": {},
     "output_type": "execute_result"
    },
    {
     "data": {
      "image/png": "[encoded data removed]",
      "text/plain": [
       "<Figure size 432x288 with 1 Axes>"
      ]
     },
     "metadata": {
      "needs_background": "light"
     },
     "output_type": "display_data"
    }
   ],
   "source": [
    "plt.ticklabel_format(style='plain', axis='x')\n",
    "seaborn.boxplot(x='gender_updated', y='number_additions', \n",
    "            data=user_node)"
   ]
  },
  {
   "cell_type": "markdown",
   "id": "253e9042",
   "metadata": {},
   "source": [
    "Logged histogram for number of additions"
   ]
  },
  {
   "cell_type": "code",
   "execution_count": 229,
   "id": "715928ea",
   "metadata": {
    "jupyter": {
     "source_hidden": true
    }
   },
   "outputs": [
    {
     "data": {
      "image/png": "[encoded data removed]",
      "text/plain": [
       "<Figure size 432x288 with 1 Axes>"
      ]
     },
     "metadata": {
      "needs_background": "light"
     },
     "output_type": "display_data"
    }
   ],
   "source": [
    "ax = seaborn.histplot(x='number_additions',data=user_node,hue='gender_updated')\n",
    "ax.set_xscale('log')\n",
    "ax.set_yscale('log')\n",
    "plt.show()"
   ]
  },
  {
   "cell_type": "markdown",
   "id": "9f710cf8",
   "metadata": {},
   "source": [
    "Density plot for number of additions"
   ]
  },
  {
   "cell_type": "code",
   "execution_count": 230,
   "id": "c347209c",
   "metadata": {
    "jupyter": {
     "source_hidden": true
    }
   },
   "outputs": [
    {
     "data": {
      "image/png": "[encoded data removed]",
      "text/plain": [
       "<Figure size 432x288 with 1 Axes>"
      ]
     },
     "metadata": {
      "needs_background": "light"
     },
     "output_type": "display_data"
    }
   ],
   "source": [
    "seaborn.kdeplot(x='number_additions',data=user_node,hue='gender_updated')\n",
    "plt.show()"
   ]
  },
  {
   "cell_type": "markdown",
   "id": "ba478461",
   "metadata": {},
   "source": [
    "Summary: We would like to investigate further whether women tend to contribute more intensively to fewer repositories, while men tend to contribute more expansively, to more repositories."
   ]
  },
  {
   "cell_type": "markdown",
   "id": "5abb7eda",
   "metadata": {},
   "source": [
    "From the same article source above, one interesting note - when the authors tried to explain why they find that women tend to have higher acceptance rates of pull requests, they suggested this:\n",
    "- \"Another theory is that women in open source are, on average, more competent than men. In Lemkau’s review of the psychology and sociology literature, she found that women in male-dominated occupations tend to be highly competent (Lemkau, 1979). (...) Assuming this final theory is the best one, why might it be that women are more competent, on average? One explanation is survivorship bias: as women continue their formal and informal education in computer science, the less competent ones may change fields or otherwise drop out. Then, only more competent women remain by the time they begin to contribute to open source. In contrast, less competent men may continue. While women do switch away from STEM majors at a higher rate than men, they also have a lower drop out rate then men (Chen, 2013), so the difference between attrition rates of women and men in college appears small. Another explanation is self-selection bias: the average woman in open source may be better prepared than the average man, which is supported by the finding that women in open source are more likely to hold Master’s and PhD degrees (Arjona-Reina, Robles & Dueas, 2014). \"\n",
    "\n",
    "Source article: https://peerj.com/articles/cs-111/#utable-1"
   ]
  },
  {
   "cell_type": "markdown",
   "id": "342b344f",
   "metadata": {},
   "source": [
    "## Contributions to repository owners by gender (in progress)"
   ]
  },
  {
   "cell_type": "markdown",
   "id": "f0d8a314",
   "metadata": {},
   "source": [
    "We look into the gender of contributors and the gender of the owners of the repositories that they contribute to."
   ]
  },
  {
   "cell_type": "markdown",
   "id": "0f45ba36",
   "metadata": {},
   "source": [
    "We imputed the gender of owners based on the methodology described above (first name). We got those names from Github API, based on the user name. Note: in many cases, the owner's name would be a general organization name, not a personal name, which would be classified as \"unknown\", that's why the number of \"unknown\" is quite high."
   ]
  },
  {
   "cell_type": "code",
   "execution_count": 85,
   "id": "77d94b04",
   "metadata": {},
   "outputs": [
    {
     "data": {
      "text/html": [
       "<div>\n",
       "<style scoped>\n",
       "    .dataframe tbody tr th:only-of-type {\n",
       "        vertical-align: middle;\n",
       "    }\n",
       "\n",
       "    .dataframe tbody tr th {\n",
       "        vertical-align: top;\n",
       "    }\n",
       "\n",
       "    .dataframe thead th {\n",
       "        text-align: right;\n",
       "    }\n",
       "</style>\n",
       "<table border=\"1\" class=\"dataframe\">\n",
       "  <thead>\n",
       "    <tr style=\"text-align: right;\">\n",
       "      <th></th>\n",
       "      <th>login_gender</th>\n",
       "      <th>owner_gender</th>\n",
       "      <th>0</th>\n",
       "    </tr>\n",
       "  </thead>\n",
       "  <tbody>\n",
       "    <tr>\n",
       "      <th>0</th>\n",
       "      <td>female</td>\n",
       "      <td>female</td>\n",
       "      <td>123</td>\n",
       "    </tr>\n",
       "    <tr>\n",
       "      <th>1</th>\n",
       "      <td>female</td>\n",
       "      <td>male</td>\n",
       "      <td>181</td>\n",
       "    </tr>\n",
       "    <tr>\n",
       "      <th>2</th>\n",
       "      <td>female</td>\n",
       "      <td>other</td>\n",
       "      <td>7</td>\n",
       "    </tr>\n",
       "    <tr>\n",
       "      <th>3</th>\n",
       "      <td>female</td>\n",
       "      <td>unknown</td>\n",
       "      <td>520</td>\n",
       "    </tr>\n",
       "    <tr>\n",
       "      <th>4</th>\n",
       "      <td>male</td>\n",
       "      <td>female</td>\n",
       "      <td>313</td>\n",
       "    </tr>\n",
       "    <tr>\n",
       "      <th>5</th>\n",
       "      <td>male</td>\n",
       "      <td>male</td>\n",
       "      <td>2146</td>\n",
       "    </tr>\n",
       "    <tr>\n",
       "      <th>6</th>\n",
       "      <td>male</td>\n",
       "      <td>other</td>\n",
       "      <td>64</td>\n",
       "    </tr>\n",
       "    <tr>\n",
       "      <th>7</th>\n",
       "      <td>male</td>\n",
       "      <td>unknown</td>\n",
       "      <td>4212</td>\n",
       "    </tr>\n",
       "    <tr>\n",
       "      <th>8</th>\n",
       "      <td>other</td>\n",
       "      <td>female</td>\n",
       "      <td>4</td>\n",
       "    </tr>\n",
       "    <tr>\n",
       "      <th>9</th>\n",
       "      <td>other</td>\n",
       "      <td>male</td>\n",
       "      <td>10</td>\n",
       "    </tr>\n",
       "    <tr>\n",
       "      <th>10</th>\n",
       "      <td>other</td>\n",
       "      <td>other</td>\n",
       "      <td>1</td>\n",
       "    </tr>\n",
       "    <tr>\n",
       "      <th>11</th>\n",
       "      <td>other</td>\n",
       "      <td>unknown</td>\n",
       "      <td>72</td>\n",
       "    </tr>\n",
       "    <tr>\n",
       "      <th>12</th>\n",
       "      <td>unknown</td>\n",
       "      <td>female</td>\n",
       "      <td>22</td>\n",
       "    </tr>\n",
       "    <tr>\n",
       "      <th>13</th>\n",
       "      <td>unknown</td>\n",
       "      <td>male</td>\n",
       "      <td>71</td>\n",
       "    </tr>\n",
       "    <tr>\n",
       "      <th>14</th>\n",
       "      <td>unknown</td>\n",
       "      <td>other</td>\n",
       "      <td>5</td>\n",
       "    </tr>\n",
       "    <tr>\n",
       "      <th>15</th>\n",
       "      <td>unknown</td>\n",
       "      <td>unknown</td>\n",
       "      <td>388</td>\n",
       "    </tr>\n",
       "  </tbody>\n",
       "</table>\n",
       "</div>"
      ],
      "text/plain": [
       "   login_gender owner_gender     0\n",
       "0        female       female   123\n",
       "1        female         male   181\n",
       "2        female        other     7\n",
       "3        female      unknown   520\n",
       "4          male       female   313\n",
       "5          male         male  2146\n",
       "6          male        other    64\n",
       "7          male      unknown  4212\n",
       "8         other       female     4\n",
       "9         other         male    10\n",
       "10        other        other     1\n",
       "11        other      unknown    72\n",
       "12      unknown       female    22\n",
       "13      unknown         male    71\n",
       "14      unknown        other     5\n",
       "15      unknown      unknown   388"
      ]
     },
     "execution_count": 85,
     "metadata": {},
     "output_type": "execute_result"
    }
   ],
   "source": [
    "# Column 0 is the number of pairs in the underlying user-owner table: \n",
    "# e.g. number of \"female user-female owner\" pairs, number of \"female user-male owner\" pairs, etc.\n",
    "login_owner.groupby(['login_gender','owner_gender']).size().reset_index()"
   ]
  },
  {
   "cell_type": "markdown",
   "id": "5a4fceee",
   "metadata": {},
   "source": [
    "Based on the table above, females are more likely to contribute to a repository with a female owner (40.46%) than males (12.71%)."
   ]
  },
  {
   "cell_type": "code",
   "execution_count": 114,
   "id": "3fa32cfc",
   "metadata": {},
   "outputs": [
    {
     "data": {
      "text/plain": [
       "40.46052631578947"
      ]
     },
     "execution_count": 114,
     "metadata": {},
     "output_type": "execute_result"
    }
   ],
   "source": [
    "# Percentage of female contributions to repositories with female owners\n",
    "# Denominator is the total female contributions to female+male owners\n",
    "(123/(123+181))*100"
   ]
  },
  {
   "cell_type": "code",
   "execution_count": 76,
   "id": "1cc65165",
   "metadata": {},
   "outputs": [
    {
     "data": {
      "text/plain": [
       "12.713241267262386"
      ]
     },
     "execution_count": 76,
     "metadata": {},
     "output_type": "execute_result"
    }
   ],
   "source": [
    "# Percentage of male contributions to repositories with female owners\n",
    "# Denominator is the total male contributions to female+male owners\n",
    "(313/(313+2146))*100"
   ]
  },
  {
   "cell_type": "markdown",
   "id": "a2f8d029",
   "metadata": {},
   "source": [
    "Males are more likely to contribute to a repository with a male owner (87.28%) than females (59.53%)."
   ]
  },
  {
   "cell_type": "code",
   "execution_count": 77,
   "id": "8929d48f",
   "metadata": {},
   "outputs": [
    {
     "data": {
      "text/plain": [
       "87.28675873273761"
      ]
     },
     "execution_count": 77,
     "metadata": {},
     "output_type": "execute_result"
    }
   ],
   "source": [
    "# Percentage of male contributions to repositories with male owners\n",
    "# Denominator is the total male contributions to female+male owners\n",
    "(2146/(313+2146))*100"
   ]
  },
  {
   "cell_type": "code",
   "execution_count": 79,
   "id": "af070ddc",
   "metadata": {},
   "outputs": [
    {
     "data": {
      "text/plain": [
       "59.539473684210535"
      ]
     },
     "execution_count": 79,
     "metadata": {},
     "output_type": "execute_result"
    }
   ],
   "source": [
    "# Percentage of female contributions to repositories with male owners\n",
    "# Denominator is the total female contributions to female+male owners\n",
    "(181/(123+181))*100"
   ]
  },
  {
   "cell_type": "markdown",
   "id": "ba290946",
   "metadata": {},
   "source": [
    "## Collaborations by gender (in progress)"
   ]
  },
  {
   "cell_type": "markdown",
   "id": "b9991b4f",
   "metadata": {},
   "source": [
    "We look into the collaborations between users - for each unique user, we found their collaborators, if any, and their gender. We use the weighted number of connections - e.g. if user 1 collaborated with user 2 on six different repositories, the weight will be 6. Then the weight is summed by pairs: \"female source-female target\", \"female source-male target\", etc."
   ]
  },
  {
   "cell_type": "code",
   "execution_count": 349,
   "id": "f4c7e032",
   "metadata": {
    "jupyter": {
     "source_hidden": true
    }
   },
   "outputs": [
    {
     "data": {
      "text/html": [
       "<div>\n",
       "<style scoped>\n",
       "    .dataframe tbody tr th:only-of-type {\n",
       "        vertical-align: middle;\n",
       "    }\n",
       "\n",
       "    .dataframe tbody tr th {\n",
       "        vertical-align: top;\n",
       "    }\n",
       "\n",
       "    .dataframe thead th {\n",
       "        text-align: right;\n",
       "    }\n",
       "</style>\n",
       "<table border=\"1\" class=\"dataframe\">\n",
       "  <thead>\n",
       "    <tr style=\"text-align: right;\">\n",
       "      <th></th>\n",
       "      <th>gender_updated_source</th>\n",
       "      <th>gender_updated_target</th>\n",
       "      <th>weight</th>\n",
       "    </tr>\n",
       "  </thead>\n",
       "  <tbody>\n",
       "    <tr>\n",
       "      <th>0</th>\n",
       "      <td>female</td>\n",
       "      <td>female</td>\n",
       "      <td>35</td>\n",
       "    </tr>\n",
       "    <tr>\n",
       "      <th>1</th>\n",
       "      <td>female</td>\n",
       "      <td>male</td>\n",
       "      <td>230</td>\n",
       "    </tr>\n",
       "    <tr>\n",
       "      <th>2</th>\n",
       "      <td>female</td>\n",
       "      <td>other</td>\n",
       "      <td>5</td>\n",
       "    </tr>\n",
       "    <tr>\n",
       "      <th>3</th>\n",
       "      <td>female</td>\n",
       "      <td>unknown</td>\n",
       "      <td>21</td>\n",
       "    </tr>\n",
       "    <tr>\n",
       "      <th>4</th>\n",
       "      <td>male</td>\n",
       "      <td>female</td>\n",
       "      <td>252</td>\n",
       "    </tr>\n",
       "    <tr>\n",
       "      <th>5</th>\n",
       "      <td>male</td>\n",
       "      <td>male</td>\n",
       "      <td>3542</td>\n",
       "    </tr>\n",
       "    <tr>\n",
       "      <th>6</th>\n",
       "      <td>male</td>\n",
       "      <td>other</td>\n",
       "      <td>14</td>\n",
       "    </tr>\n",
       "    <tr>\n",
       "      <th>7</th>\n",
       "      <td>male</td>\n",
       "      <td>unknown</td>\n",
       "      <td>199</td>\n",
       "    </tr>\n",
       "    <tr>\n",
       "      <th>8</th>\n",
       "      <td>unknown</td>\n",
       "      <td>female</td>\n",
       "      <td>22</td>\n",
       "    </tr>\n",
       "    <tr>\n",
       "      <th>9</th>\n",
       "      <td>unknown</td>\n",
       "      <td>male</td>\n",
       "      <td>198</td>\n",
       "    </tr>\n",
       "    <tr>\n",
       "      <th>10</th>\n",
       "      <td>unknown</td>\n",
       "      <td>other</td>\n",
       "      <td>1</td>\n",
       "    </tr>\n",
       "    <tr>\n",
       "      <th>11</th>\n",
       "      <td>unknown</td>\n",
       "      <td>unknown</td>\n",
       "      <td>14</td>\n",
       "    </tr>\n",
       "  </tbody>\n",
       "</table>\n",
       "</div>"
      ],
      "text/plain": [
       "   gender_updated_source gender_updated_target  weight\n",
       "0                 female                female      35\n",
       "1                 female                  male     230\n",
       "2                 female                 other       5\n",
       "3                 female               unknown      21\n",
       "4                   male                female     252\n",
       "5                   male                  male    3542\n",
       "6                   male                 other      14\n",
       "7                   male               unknown     199\n",
       "8                unknown                female      22\n",
       "9                unknown                  male     198\n",
       "10               unknown                 other       1\n",
       "11               unknown               unknown      14"
      ]
     },
     "execution_count": 349,
     "metadata": {},
     "output_type": "execute_result"
    }
   ],
   "source": [
    "user_edge_gender_updated.groupby(['gender_updated_source','gender_updated_target'])['weight'].sum().reset_index()"
   ]
  },
  {
   "cell_type": "markdown",
   "id": "e471651d",
   "metadata": {},
   "source": [
    "Based on the table above, females are more likely to collaborate on the same repository with females (13%) than the likelihood of males collaborating with females on the same repository (6%)."
   ]
  },
  {
   "cell_type": "code",
   "execution_count": 80,
   "id": "4f63749e",
   "metadata": {},
   "outputs": [
    {
     "data": {
      "text/plain": [
       "13.20754716981132"
      ]
     },
     "execution_count": 80,
     "metadata": {},
     "output_type": "execute_result"
    }
   ],
   "source": [
    "# Percentage of females collaborating on the same repository with females\n",
    "# Denominator is the total number of female+male connections\n",
    "(35/(35+230))*100"
   ]
  },
  {
   "cell_type": "code",
   "execution_count": 82,
   "id": "ecf00f06",
   "metadata": {},
   "outputs": [
    {
     "data": {
      "text/plain": [
       "6.642066420664207"
      ]
     },
     "execution_count": 82,
     "metadata": {},
     "output_type": "execute_result"
    }
   ],
   "source": [
    "# Percentage of males collaborating on the same repository with females\n",
    "# Denominator is the total number of female+male connections\n",
    "(252/(252+3542))*100"
   ]
  },
  {
   "cell_type": "markdown",
   "id": "3a709585",
   "metadata": {},
   "source": [
    "Males are more likely to collaborate on the same repository with males (93%) than the likelihood of females collaborating with males on the same repository (86%)."
   ]
  },
  {
   "cell_type": "code",
   "execution_count": 83,
   "id": "4893c0a1",
   "metadata": {},
   "outputs": [
    {
     "data": {
      "text/plain": [
       "93.35793357933579"
      ]
     },
     "execution_count": 83,
     "metadata": {},
     "output_type": "execute_result"
    }
   ],
   "source": [
    "# Percentage of males collaborating on the same repository with males\n",
    "# Denominator is the total number of female+male connections\n",
    "(3542/(252+3542))*100"
   ]
  },
  {
   "cell_type": "code",
   "execution_count": 81,
   "id": "268aec37",
   "metadata": {},
   "outputs": [
    {
     "data": {
      "text/plain": [
       "86.79245283018868"
      ]
     },
     "execution_count": 81,
     "metadata": {},
     "output_type": "execute_result"
    }
   ],
   "source": [
    "# Percentage of females collaborating on the same repository with males\n",
    "# Denominator is the total number of female+male connections\n",
    "(230/(35+230))*100"
   ]
  },
  {
   "cell_type": "markdown",
   "id": "10f68b89",
   "metadata": {},
   "source": [
    "## Degree, number of connections, by gender (in progress)"
   ]
  },
  {
   "cell_type": "markdown",
   "id": "78ccc7bf",
   "metadata": {},
   "source": [
    "Based on the number of connections in the network, we wondered if women would have 0 connections more often than men (women would be less central in the network)."
   ]
  },
  {
   "cell_type": "markdown",
   "id": "e71388eb",
   "metadata": {},
   "source": [
    "This table shows the breakdown of individuals by gender with 0 connections in the network under the \"login\" column:"
   ]
  },
  {
   "cell_type": "code",
   "execution_count": 305,
   "id": "5f7482ea",
   "metadata": {},
   "outputs": [
    {
     "data": {
      "text/html": [
       "<div>\n",
       "<style scoped>\n",
       "    .dataframe tbody tr th:only-of-type {\n",
       "        vertical-align: middle;\n",
       "    }\n",
       "\n",
       "    .dataframe tbody tr th {\n",
       "        vertical-align: top;\n",
       "    }\n",
       "\n",
       "    .dataframe thead th {\n",
       "        text-align: right;\n",
       "    }\n",
       "</style>\n",
       "<table border=\"1\" class=\"dataframe\">\n",
       "  <thead>\n",
       "    <tr style=\"text-align: right;\">\n",
       "      <th></th>\n",
       "      <th>gender_updated</th>\n",
       "      <th>login</th>\n",
       "      <th>total</th>\n",
       "      <th>percentage</th>\n",
       "    </tr>\n",
       "  </thead>\n",
       "  <tbody>\n",
       "    <tr>\n",
       "      <th>0</th>\n",
       "      <td>male</td>\n",
       "      <td>735</td>\n",
       "      <td>1086</td>\n",
       "      <td>67.68</td>\n",
       "    </tr>\n",
       "    <tr>\n",
       "      <th>1</th>\n",
       "      <td>unknown</td>\n",
       "      <td>144</td>\n",
       "      <td>170</td>\n",
       "      <td>84.71</td>\n",
       "    </tr>\n",
       "    <tr>\n",
       "      <th>2</th>\n",
       "      <td>female</td>\n",
       "      <td>129</td>\n",
       "      <td>185</td>\n",
       "      <td>69.73</td>\n",
       "    </tr>\n",
       "    <tr>\n",
       "      <th>3</th>\n",
       "      <td>other</td>\n",
       "      <td>35</td>\n",
       "      <td>39</td>\n",
       "      <td>89.74</td>\n",
       "    </tr>\n",
       "  </tbody>\n",
       "</table>\n",
       "</div>"
      ],
      "text/plain": [
       "  gender_updated  login  total  percentage\n",
       "0           male    735   1086       67.68\n",
       "1        unknown    144    170       84.71\n",
       "2         female    129    185       69.73\n",
       "3          other     35     39       89.74"
      ]
     },
     "execution_count": 305,
     "metadata": {},
     "output_type": "execute_result"
    }
   ],
   "source": [
    "# 'Login' column - number of individuals with 0 connections\n",
    "# 'Total' column - total number of individuals\n",
    "degree_gender"
   ]
  },
  {
   "cell_type": "markdown",
   "id": "0dad61d9",
   "metadata": {},
   "source": [
    "Based on the table, we can see that slightly higher percentage of women (69.73%) has 0 connections than men (67.68%)."
   ]
  },
  {
   "cell_type": "markdown",
   "id": "ae501e15",
   "metadata": {},
   "source": [
    "We plan to use weighted degree to repeat the same analysis."
   ]
  },
  {
   "cell_type": "markdown",
   "id": "1889b32e",
   "metadata": {},
   "source": [
    "Descriptive statistics for degree by gender:"
   ]
  },
  {
   "cell_type": "code",
   "execution_count": 306,
   "id": "d6e53bec",
   "metadata": {},
   "outputs": [
    {
     "data": {
      "text/html": [
       "<div>\n",
       "<style scoped>\n",
       "    .dataframe tbody tr th:only-of-type {\n",
       "        vertical-align: middle;\n",
       "    }\n",
       "\n",
       "    .dataframe tbody tr th {\n",
       "        vertical-align: top;\n",
       "    }\n",
       "\n",
       "    .dataframe thead th {\n",
       "        text-align: right;\n",
       "    }\n",
       "</style>\n",
       "<table border=\"1\" class=\"dataframe\">\n",
       "  <thead>\n",
       "    <tr style=\"text-align: right;\">\n",
       "      <th></th>\n",
       "      <th>count</th>\n",
       "      <th>mean</th>\n",
       "      <th>std</th>\n",
       "      <th>min</th>\n",
       "      <th>25%</th>\n",
       "      <th>50%</th>\n",
       "      <th>75%</th>\n",
       "      <th>max</th>\n",
       "    </tr>\n",
       "    <tr>\n",
       "      <th>gender_updated</th>\n",
       "      <th></th>\n",
       "      <th></th>\n",
       "      <th></th>\n",
       "      <th></th>\n",
       "      <th></th>\n",
       "      <th></th>\n",
       "      <th></th>\n",
       "      <th></th>\n",
       "    </tr>\n",
       "  </thead>\n",
       "  <tbody>\n",
       "    <tr>\n",
       "      <th>female</th>\n",
       "      <td>185.0</td>\n",
       "      <td>1.902703</td>\n",
       "      <td>6.641540</td>\n",
       "      <td>0.0</td>\n",
       "      <td>0.0</td>\n",
       "      <td>0.0</td>\n",
       "      <td>1.0</td>\n",
       "      <td>51.0</td>\n",
       "    </tr>\n",
       "    <tr>\n",
       "      <th>male</th>\n",
       "      <td>1086.0</td>\n",
       "      <td>2.599448</td>\n",
       "      <td>8.271252</td>\n",
       "      <td>0.0</td>\n",
       "      <td>0.0</td>\n",
       "      <td>0.0</td>\n",
       "      <td>1.0</td>\n",
       "      <td>81.0</td>\n",
       "    </tr>\n",
       "    <tr>\n",
       "      <th>other</th>\n",
       "      <td>39.0</td>\n",
       "      <td>0.512821</td>\n",
       "      <td>2.722922</td>\n",
       "      <td>0.0</td>\n",
       "      <td>0.0</td>\n",
       "      <td>0.0</td>\n",
       "      <td>0.0</td>\n",
       "      <td>17.0</td>\n",
       "    </tr>\n",
       "    <tr>\n",
       "      <th>unknown</th>\n",
       "      <td>170.0</td>\n",
       "      <td>1.570588</td>\n",
       "      <td>6.474188</td>\n",
       "      <td>0.0</td>\n",
       "      <td>0.0</td>\n",
       "      <td>0.0</td>\n",
       "      <td>0.0</td>\n",
       "      <td>43.0</td>\n",
       "    </tr>\n",
       "  </tbody>\n",
       "</table>\n",
       "</div>"
      ],
      "text/plain": [
       "                 count      mean       std  min  25%  50%  75%   max\n",
       "gender_updated                                                      \n",
       "female           185.0  1.902703  6.641540  0.0  0.0  0.0  1.0  51.0\n",
       "male            1086.0  2.599448  8.271252  0.0  0.0  0.0  1.0  81.0\n",
       "other             39.0  0.512821  2.722922  0.0  0.0  0.0  0.0  17.0\n",
       "unknown          170.0  1.570588  6.474188  0.0  0.0  0.0  0.0  43.0"
      ]
     },
     "execution_count": 306,
     "metadata": {},
     "output_type": "execute_result"
    }
   ],
   "source": [
    "node_degree.groupby('gender_updated')['Degree'].describe()"
   ]
  },
  {
   "cell_type": "markdown",
   "id": "e018a206",
   "metadata": {},
   "source": [
    "Boxplot for degree"
   ]
  },
  {
   "cell_type": "code",
   "execution_count": 307,
   "id": "16c0fcb8",
   "metadata": {},
   "outputs": [
    {
     "data": {
      "text/plain": [
       "<AxesSubplot:xlabel='gender_updated', ylabel='Degree'>"
      ]
     },
     "execution_count": 307,
     "metadata": {},
     "output_type": "execute_result"
    },
    {
     "data": {
      "image/png": "[encoded data removed]",
      "text/plain": [
       "<Figure size 432x288 with 1 Axes>"
      ]
     },
     "metadata": {
      "needs_background": "light"
     },
     "output_type": "display_data"
    }
   ],
   "source": [
    "plt.ticklabel_format(style='plain', axis='x')\n",
    "seaborn.boxplot(x='gender_updated', y='Degree', \n",
    "            data=node_degree)"
   ]
  },
  {
   "cell_type": "markdown",
   "id": "a7be9002",
   "metadata": {},
   "source": [
    "Density plot for degree"
   ]
  },
  {
   "cell_type": "code",
   "execution_count": 309,
   "id": "4484e7e4",
   "metadata": {},
   "outputs": [
    {
     "data": {
      "image/png": "[encoded data removed]",
      "text/plain": [
       "<Figure size 432x288 with 1 Axes>"
      ]
     },
     "metadata": {
      "needs_background": "light"
     },
     "output_type": "display_data"
    }
   ],
   "source": [
    "seaborn.kdeplot(x='Degree',data=node_degree,hue='gender_updated')\n",
    "plt.show()"
   ]
  },
  {
   "cell_type": "markdown",
   "id": "1e3a8f3c",
   "metadata": {},
   "source": [
    "These results are presented based on the Wikidata academic sample."
   ]
  },
  {
   "cell_type": "code",
   "execution_count": null,
   "id": "9bfc082b",
   "metadata": {},
   "outputs": [],
   "source": []
  }
 ],
 "metadata": {
  "kernelspec": {
   "display_name": "Python 3",
   "language": "python",
   "name": "python3"
  },
  "language_info": {
   "codemirror_mode": {
    "name": "ipython",
    "version": 3
   },
   "file_extension": ".py",
   "mimetype": "text/x-python",
   "name": "python",
   "nbconvert_exporter": "python",
   "pygments_lexer": "ipython3",
   "version": "3.8.5"
  }
 },
 "nbformat": 4,
 "nbformat_minor": 5
}
