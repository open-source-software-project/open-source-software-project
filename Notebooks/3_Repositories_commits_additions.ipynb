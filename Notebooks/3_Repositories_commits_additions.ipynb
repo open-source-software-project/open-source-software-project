{
 "cells": [
  {
   "cell_type": "code",
   "execution_count": 1,
   "id": "b9686b32",
   "metadata": {},
   "outputs": [],
   "source": [
    "import pandas as pd"
   ]
  },
  {
   "cell_type": "code",
   "execution_count": 53,
   "id": "57613720",
   "metadata": {},
   "outputs": [],
   "source": [
    "import seaborn\n",
    "import matplotlib.pyplot as plt"
   ]
  },
  {
   "cell_type": "code",
   "execution_count": 54,
   "id": "d5879c1b",
   "metadata": {
    "jupyter": {
     "source_hidden": true
    }
   },
   "outputs": [],
   "source": [
    "user_node = pd.read_csv('User_node_gender_updated.csv')"
   ]
  },
  {
   "cell_type": "code",
   "execution_count": 55,
   "id": "8f24c308",
   "metadata": {
    "jupyter": {
     "source_hidden": true
    }
   },
   "outputs": [
    {
     "data": {
      "text/plain": [
       "1481"
      ]
     },
     "execution_count": 55,
     "metadata": {},
     "output_type": "execute_result"
    }
   ],
   "source": [
    "len(user_node)"
   ]
  },
  {
   "cell_type": "code",
   "execution_count": 56,
   "id": "0e434705",
   "metadata": {
    "jupyter": {
     "source_hidden": true
    }
   },
   "outputs": [],
   "source": [
    "user_node = user_node[user_node['number_slugs'].notnull()]"
   ]
  },
  {
   "cell_type": "code",
   "execution_count": 57,
   "id": "42b1a03b",
   "metadata": {
    "jupyter": {
     "source_hidden": true
    }
   },
   "outputs": [
    {
     "data": {
      "text/plain": [
       "1480"
      ]
     },
     "execution_count": 57,
     "metadata": {},
     "output_type": "execute_result"
    }
   ],
   "source": [
    "len(user_node)"
   ]
  },
  {
   "cell_type": "markdown",
   "id": "5b5f5b2e",
   "metadata": {},
   "source": [
    "**Number of slugs by gender**"
   ]
  },
  {
   "cell_type": "code",
   "execution_count": 7,
   "id": "c8429e39",
   "metadata": {},
   "outputs": [],
   "source": [
    "user_node = user_node.rename(columns={'gender_updated':'gender'})"
   ]
  },
  {
   "cell_type": "code",
   "execution_count": 8,
   "id": "e7c92513",
   "metadata": {},
   "outputs": [
    {
     "data": {
      "text/html": [
       "<div>\n",
       "<style scoped>\n",
       "    .dataframe tbody tr th:only-of-type {\n",
       "        vertical-align: middle;\n",
       "    }\n",
       "\n",
       "    .dataframe tbody tr th {\n",
       "        vertical-align: top;\n",
       "    }\n",
       "\n",
       "    .dataframe thead th {\n",
       "        text-align: right;\n",
       "    }\n",
       "</style>\n",
       "<table border=\"1\" class=\"dataframe\">\n",
       "  <thead>\n",
       "    <tr style=\"text-align: right;\">\n",
       "      <th></th>\n",
       "      <th>count</th>\n",
       "      <th>mean</th>\n",
       "      <th>std</th>\n",
       "      <th>min</th>\n",
       "      <th>25%</th>\n",
       "      <th>50%</th>\n",
       "      <th>75%</th>\n",
       "      <th>max</th>\n",
       "    </tr>\n",
       "    <tr>\n",
       "      <th>gender</th>\n",
       "      <th></th>\n",
       "      <th></th>\n",
       "      <th></th>\n",
       "      <th></th>\n",
       "      <th></th>\n",
       "      <th></th>\n",
       "      <th></th>\n",
       "      <th></th>\n",
       "    </tr>\n",
       "  </thead>\n",
       "  <tbody>\n",
       "    <tr>\n",
       "      <th>female</th>\n",
       "      <td>185.0</td>\n",
       "      <td>10.470270</td>\n",
       "      <td>37.252523</td>\n",
       "      <td>1.0</td>\n",
       "      <td>1.0</td>\n",
       "      <td>4.0</td>\n",
       "      <td>9.0</td>\n",
       "      <td>483.0</td>\n",
       "    </tr>\n",
       "    <tr>\n",
       "      <th>male</th>\n",
       "      <td>1086.0</td>\n",
       "      <td>17.151934</td>\n",
       "      <td>76.399580</td>\n",
       "      <td>1.0</td>\n",
       "      <td>3.0</td>\n",
       "      <td>6.0</td>\n",
       "      <td>15.0</td>\n",
       "      <td>2020.0</td>\n",
       "    </tr>\n",
       "    <tr>\n",
       "      <th>other</th>\n",
       "      <td>39.0</td>\n",
       "      <td>6.025641</td>\n",
       "      <td>8.044243</td>\n",
       "      <td>1.0</td>\n",
       "      <td>1.0</td>\n",
       "      <td>3.0</td>\n",
       "      <td>6.0</td>\n",
       "      <td>42.0</td>\n",
       "    </tr>\n",
       "    <tr>\n",
       "      <th>unknown</th>\n",
       "      <td>170.0</td>\n",
       "      <td>7.970588</td>\n",
       "      <td>11.688474</td>\n",
       "      <td>1.0</td>\n",
       "      <td>2.0</td>\n",
       "      <td>4.0</td>\n",
       "      <td>8.0</td>\n",
       "      <td>73.0</td>\n",
       "    </tr>\n",
       "  </tbody>\n",
       "</table>\n",
       "</div>"
      ],
      "text/plain": [
       "          count       mean        std  min  25%  50%   75%     max\n",
       "gender                                                            \n",
       "female    185.0  10.470270  37.252523  1.0  1.0  4.0   9.0   483.0\n",
       "male     1086.0  17.151934  76.399580  1.0  3.0  6.0  15.0  2020.0\n",
       "other      39.0   6.025641   8.044243  1.0  1.0  3.0   6.0    42.0\n",
       "unknown   170.0   7.970588  11.688474  1.0  2.0  4.0   8.0    73.0"
      ]
     },
     "execution_count": 8,
     "metadata": {},
     "output_type": "execute_result"
    }
   ],
   "source": [
    "user_node.groupby('gender')['number_slugs'].describe()"
   ]
  },
  {
   "cell_type": "code",
   "execution_count": 9,
   "id": "f9676239",
   "metadata": {},
   "outputs": [
    {
     "data": {
      "text/plain": [
       "<AxesSubplot:xlabel='gender', ylabel='number_slugs'>"
      ]
     },
     "execution_count": 9,
     "metadata": {},
     "output_type": "execute_result"
    },
    {
     "data": {
      "image/png": "[encoded data removed]",
      "text/plain": [
       "<Figure size 432x288 with 1 Axes>"
      ]
     },
     "metadata": {
      "needs_background": "light"
     },
     "output_type": "display_data"
    }
   ],
   "source": [
    "plt.ticklabel_format(style='plain', axis='x')\n",
    "seaborn.boxplot(x='gender', y='number_slugs', \n",
    "            data=user_node)"
   ]
  },
  {
   "cell_type": "code",
   "execution_count": 10,
   "id": "858555f2",
   "metadata": {},
   "outputs": [
    {
     "data": {
      "image/png": "[encoded data removed]",
      "text/plain": [
       "<Figure size 432x288 with 1 Axes>"
      ]
     },
     "metadata": {
      "needs_background": "light"
     },
     "output_type": "display_data"
    }
   ],
   "source": [
    "ax = seaborn.histplot(x='number_slugs',data=user_node,hue='gender')\n",
    "ax.set_xscale('log')\n",
    "ax.set_yscale('log')\n",
    "plt.show()"
   ]
  },
  {
   "cell_type": "code",
   "execution_count": 12,
   "id": "72ee1aa8",
   "metadata": {},
   "outputs": [
    {
     "data": {
      "image/png": "[encoded data removed]",
      "text/plain": [
       "<Figure size 432x288 with 1 Axes>"
      ]
     },
     "metadata": {
      "needs_background": "light"
     },
     "output_type": "display_data"
    }
   ],
   "source": [
    "seaborn.kdeplot(x='number_slugs',data=user_node,hue='gender')\n",
    "plt.show()"
   ]
  },
  {
   "cell_type": "code",
   "execution_count": 13,
   "id": "93774a79",
   "metadata": {
    "jupyter": {
     "source_hidden": true
    }
   },
   "outputs": [],
   "source": [
    "user_node['number_slugs'] = user_node['number_slugs'].astype('float64')"
   ]
  },
  {
   "cell_type": "markdown",
   "id": "3cf456aa",
   "metadata": {},
   "source": [
    "Between 5th and 95th quantiles"
   ]
  },
  {
   "cell_type": "code",
   "execution_count": 14,
   "id": "838de03b",
   "metadata": {
    "jupyter": {
     "source_hidden": true
    }
   },
   "outputs": [],
   "source": [
    "number_slugs = user_node[user_node['number_slugs'] < user_node['number_slugs'].quantile(.95)]"
   ]
  },
  {
   "cell_type": "code",
   "execution_count": 15,
   "id": "c2ba1aaf",
   "metadata": {
    "jupyter": {
     "source_hidden": true
    }
   },
   "outputs": [],
   "source": [
    "number_slugs = number_slugs[number_slugs['number_slugs'] > number_slugs['number_slugs'].quantile(.5)]"
   ]
  },
  {
   "cell_type": "code",
   "execution_count": 16,
   "id": "e4b659ea",
   "metadata": {
    "jupyter": {
     "source_hidden": true
    }
   },
   "outputs": [
    {
     "data": {
      "text/plain": [
       "654"
      ]
     },
     "execution_count": 16,
     "metadata": {},
     "output_type": "execute_result"
    }
   ],
   "source": [
    "len(number_slugs)"
   ]
  },
  {
   "cell_type": "code",
   "execution_count": 18,
   "id": "d3cbc47a",
   "metadata": {},
   "outputs": [
    {
     "data": {
      "text/html": [
       "<div>\n",
       "<style scoped>\n",
       "    .dataframe tbody tr th:only-of-type {\n",
       "        vertical-align: middle;\n",
       "    }\n",
       "\n",
       "    .dataframe tbody tr th {\n",
       "        vertical-align: top;\n",
       "    }\n",
       "\n",
       "    .dataframe thead th {\n",
       "        text-align: right;\n",
       "    }\n",
       "</style>\n",
       "<table border=\"1\" class=\"dataframe\">\n",
       "  <thead>\n",
       "    <tr style=\"text-align: right;\">\n",
       "      <th></th>\n",
       "      <th>count</th>\n",
       "      <th>mean</th>\n",
       "      <th>std</th>\n",
       "      <th>min</th>\n",
       "      <th>25%</th>\n",
       "      <th>50%</th>\n",
       "      <th>75%</th>\n",
       "      <th>max</th>\n",
       "    </tr>\n",
       "    <tr>\n",
       "      <th>gender</th>\n",
       "      <th></th>\n",
       "      <th></th>\n",
       "      <th></th>\n",
       "      <th></th>\n",
       "      <th></th>\n",
       "      <th></th>\n",
       "      <th></th>\n",
       "      <th></th>\n",
       "    </tr>\n",
       "  </thead>\n",
       "  <tbody>\n",
       "    <tr>\n",
       "      <th>female</th>\n",
       "      <td>65.0</td>\n",
       "      <td>12.984615</td>\n",
       "      <td>8.697148</td>\n",
       "      <td>6.0</td>\n",
       "      <td>7.0</td>\n",
       "      <td>10.0</td>\n",
       "      <td>16.00</td>\n",
       "      <td>47.0</td>\n",
       "    </tr>\n",
       "    <tr>\n",
       "      <th>male</th>\n",
       "      <td>515.0</td>\n",
       "      <td>15.912621</td>\n",
       "      <td>9.991345</td>\n",
       "      <td>6.0</td>\n",
       "      <td>8.0</td>\n",
       "      <td>13.0</td>\n",
       "      <td>20.00</td>\n",
       "      <td>51.0</td>\n",
       "    </tr>\n",
       "    <tr>\n",
       "      <th>other</th>\n",
       "      <td>12.0</td>\n",
       "      <td>14.416667</td>\n",
       "      <td>10.326122</td>\n",
       "      <td>6.0</td>\n",
       "      <td>7.5</td>\n",
       "      <td>11.5</td>\n",
       "      <td>17.00</td>\n",
       "      <td>42.0</td>\n",
       "    </tr>\n",
       "    <tr>\n",
       "      <th>unknown</th>\n",
       "      <td>62.0</td>\n",
       "      <td>14.725806</td>\n",
       "      <td>10.544472</td>\n",
       "      <td>6.0</td>\n",
       "      <td>7.0</td>\n",
       "      <td>11.0</td>\n",
       "      <td>16.75</td>\n",
       "      <td>46.0</td>\n",
       "    </tr>\n",
       "  </tbody>\n",
       "</table>\n",
       "</div>"
      ],
      "text/plain": [
       "         count       mean        std  min  25%   50%    75%   max\n",
       "gender                                                           \n",
       "female    65.0  12.984615   8.697148  6.0  7.0  10.0  16.00  47.0\n",
       "male     515.0  15.912621   9.991345  6.0  8.0  13.0  20.00  51.0\n",
       "other     12.0  14.416667  10.326122  6.0  7.5  11.5  17.00  42.0\n",
       "unknown   62.0  14.725806  10.544472  6.0  7.0  11.0  16.75  46.0"
      ]
     },
     "execution_count": 18,
     "metadata": {},
     "output_type": "execute_result"
    }
   ],
   "source": [
    "number_slugs.groupby('gender')['number_slugs'].describe()"
   ]
  },
  {
   "cell_type": "code",
   "execution_count": 19,
   "id": "412b1373",
   "metadata": {},
   "outputs": [
    {
     "data": {
      "text/plain": [
       "<AxesSubplot:xlabel='gender', ylabel='number_slugs'>"
      ]
     },
     "execution_count": 19,
     "metadata": {},
     "output_type": "execute_result"
    },
    {
     "data": {
      "image/png": "[encoded data removed]",
      "text/plain": [
       "<Figure size 432x288 with 1 Axes>"
      ]
     },
     "metadata": {
      "needs_background": "light"
     },
     "output_type": "display_data"
    }
   ],
   "source": [
    "plt.ticklabel_format(style='plain', axis='x')\n",
    "seaborn.boxplot(x='gender', y='number_slugs', \n",
    "            data=number_slugs)"
   ]
  },
  {
   "cell_type": "code",
   "execution_count": 20,
   "id": "66240d39",
   "metadata": {},
   "outputs": [
    {
     "data": {
      "image/png": "[encoded data removed]",
      "text/plain": [
       "<Figure size 432x288 with 1 Axes>"
      ]
     },
     "metadata": {
      "needs_background": "light"
     },
     "output_type": "display_data"
    }
   ],
   "source": [
    "ax = seaborn.histplot(x='number_slugs',data=number_slugs,hue='gender')\n",
    "plt.show()"
   ]
  },
  {
   "cell_type": "code",
   "execution_count": 21,
   "id": "ca638936",
   "metadata": {},
   "outputs": [],
   "source": [
    "number_slugs['number_slugs'] = number_slugs['number_slugs'].astype('float64')"
   ]
  },
  {
   "cell_type": "code",
   "execution_count": 22,
   "id": "ae7fc5ce",
   "metadata": {},
   "outputs": [
    {
     "data": {
      "image/png": "[encoded data removed]",
      "text/plain": [
       "<Figure size 432x288 with 1 Axes>"
      ]
     },
     "metadata": {
      "needs_background": "light"
     },
     "output_type": "display_data"
    }
   ],
   "source": [
    "seaborn.kdeplot(x='number_slugs',data=number_slugs,hue='gender')\n",
    "plt.show()"
   ]
  },
  {
   "cell_type": "markdown",
   "id": "f2d7d0d3",
   "metadata": {},
   "source": [
    "**Number of commits by gender**"
   ]
  },
  {
   "cell_type": "code",
   "execution_count": 23,
   "id": "6de6cb44",
   "metadata": {},
   "outputs": [
    {
     "data": {
      "text/html": [
       "<div>\n",
       "<style scoped>\n",
       "    .dataframe tbody tr th:only-of-type {\n",
       "        vertical-align: middle;\n",
       "    }\n",
       "\n",
       "    .dataframe tbody tr th {\n",
       "        vertical-align: top;\n",
       "    }\n",
       "\n",
       "    .dataframe thead th {\n",
       "        text-align: right;\n",
       "    }\n",
       "</style>\n",
       "<table border=\"1\" class=\"dataframe\">\n",
       "  <thead>\n",
       "    <tr style=\"text-align: right;\">\n",
       "      <th></th>\n",
       "      <th>count</th>\n",
       "      <th>mean</th>\n",
       "      <th>std</th>\n",
       "      <th>min</th>\n",
       "      <th>25%</th>\n",
       "      <th>50%</th>\n",
       "      <th>75%</th>\n",
       "      <th>max</th>\n",
       "    </tr>\n",
       "    <tr>\n",
       "      <th>gender</th>\n",
       "      <th></th>\n",
       "      <th></th>\n",
       "      <th></th>\n",
       "      <th></th>\n",
       "      <th></th>\n",
       "      <th></th>\n",
       "      <th></th>\n",
       "      <th></th>\n",
       "    </tr>\n",
       "  </thead>\n",
       "  <tbody>\n",
       "    <tr>\n",
       "      <th>female</th>\n",
       "      <td>185.0</td>\n",
       "      <td>383.994595</td>\n",
       "      <td>1297.765695</td>\n",
       "      <td>1.0</td>\n",
       "      <td>15.00</td>\n",
       "      <td>66.0</td>\n",
       "      <td>291.00</td>\n",
       "      <td>13688.0</td>\n",
       "    </tr>\n",
       "    <tr>\n",
       "      <th>male</th>\n",
       "      <td>1086.0</td>\n",
       "      <td>611.187845</td>\n",
       "      <td>1322.171883</td>\n",
       "      <td>1.0</td>\n",
       "      <td>42.00</td>\n",
       "      <td>167.0</td>\n",
       "      <td>551.25</td>\n",
       "      <td>18121.0</td>\n",
       "    </tr>\n",
       "    <tr>\n",
       "      <th>other</th>\n",
       "      <td>39.0</td>\n",
       "      <td>285.948718</td>\n",
       "      <td>633.138671</td>\n",
       "      <td>2.0</td>\n",
       "      <td>23.00</td>\n",
       "      <td>55.0</td>\n",
       "      <td>248.50</td>\n",
       "      <td>3411.0</td>\n",
       "    </tr>\n",
       "    <tr>\n",
       "      <th>unknown</th>\n",
       "      <td>170.0</td>\n",
       "      <td>310.511765</td>\n",
       "      <td>713.721758</td>\n",
       "      <td>1.0</td>\n",
       "      <td>28.25</td>\n",
       "      <td>87.5</td>\n",
       "      <td>255.50</td>\n",
       "      <td>4967.0</td>\n",
       "    </tr>\n",
       "  </tbody>\n",
       "</table>\n",
       "</div>"
      ],
      "text/plain": [
       "          count        mean          std  min    25%    50%     75%      max\n",
       "gender                                                                      \n",
       "female    185.0  383.994595  1297.765695  1.0  15.00   66.0  291.00  13688.0\n",
       "male     1086.0  611.187845  1322.171883  1.0  42.00  167.0  551.25  18121.0\n",
       "other      39.0  285.948718   633.138671  2.0  23.00   55.0  248.50   3411.0\n",
       "unknown   170.0  310.511765   713.721758  1.0  28.25   87.5  255.50   4967.0"
      ]
     },
     "execution_count": 23,
     "metadata": {},
     "output_type": "execute_result"
    }
   ],
   "source": [
    "user_node.groupby('gender')['number_commits'].describe()"
   ]
  },
  {
   "cell_type": "code",
   "execution_count": 24,
   "id": "e49c31cf",
   "metadata": {},
   "outputs": [
    {
     "data": {
      "text/plain": [
       "<AxesSubplot:xlabel='gender', ylabel='number_commits'>"
      ]
     },
     "execution_count": 24,
     "metadata": {},
     "output_type": "execute_result"
    },
    {
     "data": {
      "image/png": "[encoded data removed]",
      "text/plain": [
       "<Figure size 432x288 with 1 Axes>"
      ]
     },
     "metadata": {
      "needs_background": "light"
     },
     "output_type": "display_data"
    }
   ],
   "source": [
    "plt.ticklabel_format(style='plain', axis='x')\n",
    "seaborn.boxplot(x='gender', y='number_commits', \n",
    "            data=user_node)"
   ]
  },
  {
   "cell_type": "code",
   "execution_count": 25,
   "id": "700ce3fc",
   "metadata": {},
   "outputs": [
    {
     "data": {
      "image/png": "[encoded data removed]",
      "text/plain": [
       "<Figure size 432x288 with 1 Axes>"
      ]
     },
     "metadata": {
      "needs_background": "light"
     },
     "output_type": "display_data"
    }
   ],
   "source": [
    "ax = seaborn.histplot(x='number_commits',data=user_node,hue='gender')\n",
    "ax.set_xscale('log')\n",
    "ax.set_yscale('log')\n",
    "plt.show()"
   ]
  },
  {
   "cell_type": "code",
   "execution_count": 26,
   "id": "20978bb0",
   "metadata": {},
   "outputs": [
    {
     "data": {
      "image/png": "[encoded data removed]",
      "text/plain": [
       "<Figure size 432x288 with 1 Axes>"
      ]
     },
     "metadata": {
      "needs_background": "light"
     },
     "output_type": "display_data"
    }
   ],
   "source": [
    "seaborn.kdeplot(x='number_commits',data=user_node,hue='gender')\n",
    "plt.show()"
   ]
  },
  {
   "cell_type": "markdown",
   "id": "c87caaa2",
   "metadata": {},
   "source": [
    "Between 5th and 95th quantiles"
   ]
  },
  {
   "cell_type": "code",
   "execution_count": 27,
   "id": "857b8cd5",
   "metadata": {},
   "outputs": [],
   "source": [
    "number_commits = user_node[user_node['number_commits'] < user_node['number_commits'].quantile(.95)]"
   ]
  },
  {
   "cell_type": "code",
   "execution_count": 28,
   "id": "e918f82b",
   "metadata": {
    "jupyter": {
     "source_hidden": true
    }
   },
   "outputs": [],
   "source": [
    "number_commits = number_commits[number_commits['number_commits'] > number_commits['number_commits'].quantile(.5)]"
   ]
  },
  {
   "cell_type": "code",
   "execution_count": 29,
   "id": "acb954da",
   "metadata": {
    "jupyter": {
     "source_hidden": true
    }
   },
   "outputs": [
    {
     "data": {
      "text/plain": [
       "703"
      ]
     },
     "execution_count": 29,
     "metadata": {},
     "output_type": "execute_result"
    }
   ],
   "source": [
    "len(number_commits)"
   ]
  },
  {
   "cell_type": "code",
   "execution_count": 30,
   "id": "1f1cba9e",
   "metadata": {},
   "outputs": [
    {
     "data": {
      "text/html": [
       "<div>\n",
       "<style scoped>\n",
       "    .dataframe tbody tr th:only-of-type {\n",
       "        vertical-align: middle;\n",
       "    }\n",
       "\n",
       "    .dataframe tbody tr th {\n",
       "        vertical-align: top;\n",
       "    }\n",
       "\n",
       "    .dataframe thead th {\n",
       "        text-align: right;\n",
       "    }\n",
       "</style>\n",
       "<table border=\"1\" class=\"dataframe\">\n",
       "  <thead>\n",
       "    <tr style=\"text-align: right;\">\n",
       "      <th></th>\n",
       "      <th>count</th>\n",
       "      <th>mean</th>\n",
       "      <th>std</th>\n",
       "      <th>min</th>\n",
       "      <th>25%</th>\n",
       "      <th>50%</th>\n",
       "      <th>75%</th>\n",
       "      <th>max</th>\n",
       "    </tr>\n",
       "    <tr>\n",
       "      <th>gender</th>\n",
       "      <th></th>\n",
       "      <th></th>\n",
       "      <th></th>\n",
       "      <th></th>\n",
       "      <th></th>\n",
       "      <th></th>\n",
       "      <th></th>\n",
       "      <th></th>\n",
       "    </tr>\n",
       "  </thead>\n",
       "  <tbody>\n",
       "    <tr>\n",
       "      <th>female</th>\n",
       "      <td>62.0</td>\n",
       "      <td>506.725806</td>\n",
       "      <td>378.125106</td>\n",
       "      <td>122.0</td>\n",
       "      <td>204.00</td>\n",
       "      <td>367.0</td>\n",
       "      <td>707.50</td>\n",
       "      <td>1709.0</td>\n",
       "    </tr>\n",
       "    <tr>\n",
       "      <th>male</th>\n",
       "      <td>560.0</td>\n",
       "      <td>622.750000</td>\n",
       "      <td>537.478099</td>\n",
       "      <td>121.0</td>\n",
       "      <td>224.75</td>\n",
       "      <td>395.5</td>\n",
       "      <td>895.25</td>\n",
       "      <td>2310.0</td>\n",
       "    </tr>\n",
       "    <tr>\n",
       "      <th>other</th>\n",
       "      <td>11.0</td>\n",
       "      <td>614.454545</td>\n",
       "      <td>507.962669</td>\n",
       "      <td>176.0</td>\n",
       "      <td>268.50</td>\n",
       "      <td>402.0</td>\n",
       "      <td>832.50</td>\n",
       "      <td>1682.0</td>\n",
       "    </tr>\n",
       "    <tr>\n",
       "      <th>unknown</th>\n",
       "      <td>70.0</td>\n",
       "      <td>423.128571</td>\n",
       "      <td>384.842182</td>\n",
       "      <td>121.0</td>\n",
       "      <td>171.00</td>\n",
       "      <td>266.0</td>\n",
       "      <td>514.75</td>\n",
       "      <td>2107.0</td>\n",
       "    </tr>\n",
       "  </tbody>\n",
       "</table>\n",
       "</div>"
      ],
      "text/plain": [
       "         count        mean         std    min     25%    50%     75%     max\n",
       "gender                                                                      \n",
       "female    62.0  506.725806  378.125106  122.0  204.00  367.0  707.50  1709.0\n",
       "male     560.0  622.750000  537.478099  121.0  224.75  395.5  895.25  2310.0\n",
       "other     11.0  614.454545  507.962669  176.0  268.50  402.0  832.50  1682.0\n",
       "unknown   70.0  423.128571  384.842182  121.0  171.00  266.0  514.75  2107.0"
      ]
     },
     "execution_count": 30,
     "metadata": {},
     "output_type": "execute_result"
    }
   ],
   "source": [
    "number_commits.groupby('gender')['number_commits'].describe()"
   ]
  },
  {
   "cell_type": "code",
   "execution_count": 31,
   "id": "a575bad1",
   "metadata": {},
   "outputs": [
    {
     "data": {
      "text/plain": [
       "<AxesSubplot:xlabel='gender', ylabel='number_commits'>"
      ]
     },
     "execution_count": 31,
     "metadata": {},
     "output_type": "execute_result"
    },
    {
     "data": {
      "image/png": "[encoded data removed]",
      "text/plain": [
       "<Figure size 432x288 with 1 Axes>"
      ]
     },
     "metadata": {
      "needs_background": "light"
     },
     "output_type": "display_data"
    }
   ],
   "source": [
    "plt.ticklabel_format(style='plain', axis='x')\n",
    "seaborn.boxplot(x='gender', y='number_commits', \n",
    "            data=number_commits)"
   ]
  },
  {
   "cell_type": "code",
   "execution_count": 32,
   "id": "76c54a9b",
   "metadata": {},
   "outputs": [
    {
     "data": {
      "image/png": "[encoded data removed]",
      "text/plain": [
       "<Figure size 432x288 with 1 Axes>"
      ]
     },
     "metadata": {
      "needs_background": "light"
     },
     "output_type": "display_data"
    }
   ],
   "source": [
    "ax = seaborn.histplot(x='number_commits',data=number_commits,hue='gender')\n",
    "plt.show()"
   ]
  },
  {
   "cell_type": "code",
   "execution_count": 33,
   "id": "fd1c3324",
   "metadata": {},
   "outputs": [
    {
     "data": {
      "image/png": "[encoded data removed]",
      "text/plain": [
       "<Figure size 432x288 with 1 Axes>"
      ]
     },
     "metadata": {
      "needs_background": "light"
     },
     "output_type": "display_data"
    }
   ],
   "source": [
    "seaborn.kdeplot(x='number_commits',data=number_commits,hue='gender')\n",
    "plt.show()"
   ]
  },
  {
   "cell_type": "markdown",
   "id": "519f8ce3",
   "metadata": {},
   "source": [
    "**Number of additions by gender**"
   ]
  },
  {
   "cell_type": "code",
   "execution_count": 34,
   "id": "227939ce",
   "metadata": {},
   "outputs": [
    {
     "data": {
      "text/html": [
       "<div>\n",
       "<style scoped>\n",
       "    .dataframe tbody tr th:only-of-type {\n",
       "        vertical-align: middle;\n",
       "    }\n",
       "\n",
       "    .dataframe tbody tr th {\n",
       "        vertical-align: top;\n",
       "    }\n",
       "\n",
       "    .dataframe thead th {\n",
       "        text-align: right;\n",
       "    }\n",
       "</style>\n",
       "<table border=\"1\" class=\"dataframe\">\n",
       "  <thead>\n",
       "    <tr style=\"text-align: right;\">\n",
       "      <th></th>\n",
       "      <th>count</th>\n",
       "      <th>mean</th>\n",
       "      <th>std</th>\n",
       "      <th>min</th>\n",
       "      <th>25%</th>\n",
       "      <th>50%</th>\n",
       "      <th>75%</th>\n",
       "      <th>max</th>\n",
       "    </tr>\n",
       "    <tr>\n",
       "      <th>gender</th>\n",
       "      <th></th>\n",
       "      <th></th>\n",
       "      <th></th>\n",
       "      <th></th>\n",
       "      <th></th>\n",
       "      <th></th>\n",
       "      <th></th>\n",
       "      <th></th>\n",
       "    </tr>\n",
       "  </thead>\n",
       "  <tbody>\n",
       "    <tr>\n",
       "      <th>female</th>\n",
       "      <td>185.0</td>\n",
       "      <td>2026532.3</td>\n",
       "      <td>12308593.4</td>\n",
       "      <td>0.0</td>\n",
       "      <td>1445.0</td>\n",
       "      <td>29491.0</td>\n",
       "      <td>271713.0</td>\n",
       "      <td>149080533.0</td>\n",
       "    </tr>\n",
       "    <tr>\n",
       "      <th>male</th>\n",
       "      <td>1086.0</td>\n",
       "      <td>1422974.8</td>\n",
       "      <td>5328611.7</td>\n",
       "      <td>0.0</td>\n",
       "      <td>13099.5</td>\n",
       "      <td>122162.5</td>\n",
       "      <td>721692.2</td>\n",
       "      <td>97394457.0</td>\n",
       "    </tr>\n",
       "    <tr>\n",
       "      <th>other</th>\n",
       "      <td>39.0</td>\n",
       "      <td>672802.3</td>\n",
       "      <td>2295155.6</td>\n",
       "      <td>125.0</td>\n",
       "      <td>7319.0</td>\n",
       "      <td>27019.0</td>\n",
       "      <td>282055.0</td>\n",
       "      <td>13876413.0</td>\n",
       "    </tr>\n",
       "    <tr>\n",
       "      <th>unknown</th>\n",
       "      <td>170.0</td>\n",
       "      <td>1171781.1</td>\n",
       "      <td>4047907.6</td>\n",
       "      <td>0.0</td>\n",
       "      <td>7936.8</td>\n",
       "      <td>67547.0</td>\n",
       "      <td>387783.5</td>\n",
       "      <td>41747156.0</td>\n",
       "    </tr>\n",
       "  </tbody>\n",
       "</table>\n",
       "</div>"
      ],
      "text/plain": [
       "          count       mean         std    min      25%       50%       75%  \\\n",
       "gender                                                                       \n",
       "female    185.0  2026532.3  12308593.4    0.0   1445.0   29491.0  271713.0   \n",
       "male     1086.0  1422974.8   5328611.7    0.0  13099.5  122162.5  721692.2   \n",
       "other      39.0   672802.3   2295155.6  125.0   7319.0   27019.0  282055.0   \n",
       "unknown   170.0  1171781.1   4047907.6    0.0   7936.8   67547.0  387783.5   \n",
       "\n",
       "                 max  \n",
       "gender                \n",
       "female   149080533.0  \n",
       "male      97394457.0  \n",
       "other     13876413.0  \n",
       "unknown   41747156.0  "
      ]
     },
     "execution_count": 34,
     "metadata": {},
     "output_type": "execute_result"
    }
   ],
   "source": [
    "user_node.groupby('gender')['number_additions'].describe().round(1)"
   ]
  },
  {
   "cell_type": "code",
   "execution_count": 35,
   "id": "76ef38cb",
   "metadata": {},
   "outputs": [
    {
     "data": {
      "text/plain": [
       "<AxesSubplot:xlabel='gender', ylabel='number_additions'>"
      ]
     },
     "execution_count": 35,
     "metadata": {},
     "output_type": "execute_result"
    },
    {
     "data": {
      "image/png": "[encoded data removed]",
      "text/plain": [
       "<Figure size 432x288 with 1 Axes>"
      ]
     },
     "metadata": {
      "needs_background": "light"
     },
     "output_type": "display_data"
    }
   ],
   "source": [
    "plt.ticklabel_format(style='plain', axis='x')\n",
    "seaborn.boxplot(x='gender', y='number_additions', \n",
    "            data=user_node)"
   ]
  },
  {
   "cell_type": "code",
   "execution_count": 36,
   "id": "e1ac8b1a",
   "metadata": {},
   "outputs": [
    {
     "data": {
      "image/png": "[encoded data removed]",
      "text/plain": [
       "<Figure size 432x288 with 1 Axes>"
      ]
     },
     "metadata": {
      "needs_background": "light"
     },
     "output_type": "display_data"
    }
   ],
   "source": [
    "ax = seaborn.histplot(x='number_additions',data=user_node,hue='gender')\n",
    "ax.set_xscale('log')\n",
    "ax.set_yscale('log')\n",
    "plt.show()"
   ]
  },
  {
   "cell_type": "code",
   "execution_count": 37,
   "id": "785971cc",
   "metadata": {},
   "outputs": [
    {
     "data": {
      "image/png": "[encoded data removed]",
      "text/plain": [
       "<Figure size 432x288 with 1 Axes>"
      ]
     },
     "metadata": {
      "needs_background": "light"
     },
     "output_type": "display_data"
    }
   ],
   "source": [
    "seaborn.kdeplot(x='number_additions',data=user_node,hue='gender')\n",
    "plt.show()"
   ]
  },
  {
   "cell_type": "markdown",
   "id": "e6a56f80",
   "metadata": {},
   "source": [
    "Between 5th and 95th quantiles"
   ]
  },
  {
   "cell_type": "code",
   "execution_count": 42,
   "id": "fef87146",
   "metadata": {},
   "outputs": [],
   "source": [
    "number_additions = user_node[user_node['number_additions'] < user_node['number_additions'].quantile(.95)]"
   ]
  },
  {
   "cell_type": "code",
   "execution_count": 43,
   "id": "3d75321d",
   "metadata": {},
   "outputs": [],
   "source": [
    "number_additions = number_additions[number_additions['number_additions'] > number_additions['number_additions'].quantile(.5)]"
   ]
  },
  {
   "cell_type": "code",
   "execution_count": 44,
   "id": "7e73eb5b",
   "metadata": {},
   "outputs": [
    {
     "data": {
      "text/plain": [
       "703"
      ]
     },
     "execution_count": 44,
     "metadata": {},
     "output_type": "execute_result"
    }
   ],
   "source": [
    "len(number_additions)"
   ]
  },
  {
   "cell_type": "code",
   "execution_count": 45,
   "id": "4e0f9bdb",
   "metadata": {},
   "outputs": [
    {
     "data": {
      "text/html": [
       "<div>\n",
       "<style scoped>\n",
       "    .dataframe tbody tr th:only-of-type {\n",
       "        vertical-align: middle;\n",
       "    }\n",
       "\n",
       "    .dataframe tbody tr th {\n",
       "        vertical-align: top;\n",
       "    }\n",
       "\n",
       "    .dataframe thead th {\n",
       "        text-align: right;\n",
       "    }\n",
       "</style>\n",
       "<table border=\"1\" class=\"dataframe\">\n",
       "  <thead>\n",
       "    <tr style=\"text-align: right;\">\n",
       "      <th></th>\n",
       "      <th>count</th>\n",
       "      <th>mean</th>\n",
       "      <th>std</th>\n",
       "      <th>min</th>\n",
       "      <th>25%</th>\n",
       "      <th>50%</th>\n",
       "      <th>75%</th>\n",
       "      <th>max</th>\n",
       "    </tr>\n",
       "    <tr>\n",
       "      <th>gender</th>\n",
       "      <th></th>\n",
       "      <th></th>\n",
       "      <th></th>\n",
       "      <th></th>\n",
       "      <th></th>\n",
       "      <th></th>\n",
       "      <th></th>\n",
       "      <th></th>\n",
       "    </tr>\n",
       "  </thead>\n",
       "  <tbody>\n",
       "    <tr>\n",
       "      <th>female</th>\n",
       "      <td>58.0</td>\n",
       "      <td>751309.0</td>\n",
       "      <td>988289.5</td>\n",
       "      <td>82112.0</td>\n",
       "      <td>176425.0</td>\n",
       "      <td>353535.5</td>\n",
       "      <td>771184.0</td>\n",
       "      <td>4916128.0</td>\n",
       "    </tr>\n",
       "    <tr>\n",
       "      <th>male</th>\n",
       "      <td>559.0</td>\n",
       "      <td>1015950.5</td>\n",
       "      <td>1286775.3</td>\n",
       "      <td>74986.0</td>\n",
       "      <td>196408.0</td>\n",
       "      <td>435538.0</td>\n",
       "      <td>1267878.5</td>\n",
       "      <td>6512537.0</td>\n",
       "    </tr>\n",
       "    <tr>\n",
       "      <th>other</th>\n",
       "      <td>13.0</td>\n",
       "      <td>922050.8</td>\n",
       "      <td>1088194.5</td>\n",
       "      <td>85397.0</td>\n",
       "      <td>278915.0</td>\n",
       "      <td>297897.0</td>\n",
       "      <td>1784837.0</td>\n",
       "      <td>3543041.0</td>\n",
       "    </tr>\n",
       "    <tr>\n",
       "      <th>unknown</th>\n",
       "      <td>73.0</td>\n",
       "      <td>911687.4</td>\n",
       "      <td>1250471.6</td>\n",
       "      <td>76610.0</td>\n",
       "      <td>170828.0</td>\n",
       "      <td>334535.0</td>\n",
       "      <td>1008522.0</td>\n",
       "      <td>6571262.0</td>\n",
       "    </tr>\n",
       "  </tbody>\n",
       "</table>\n",
       "</div>"
      ],
      "text/plain": [
       "         count       mean        std      min       25%       50%        75%  \\\n",
       "gender                                                                         \n",
       "female    58.0   751309.0   988289.5  82112.0  176425.0  353535.5   771184.0   \n",
       "male     559.0  1015950.5  1286775.3  74986.0  196408.0  435538.0  1267878.5   \n",
       "other     13.0   922050.8  1088194.5  85397.0  278915.0  297897.0  1784837.0   \n",
       "unknown   73.0   911687.4  1250471.6  76610.0  170828.0  334535.0  1008522.0   \n",
       "\n",
       "               max  \n",
       "gender              \n",
       "female   4916128.0  \n",
       "male     6512537.0  \n",
       "other    3543041.0  \n",
       "unknown  6571262.0  "
      ]
     },
     "execution_count": 45,
     "metadata": {},
     "output_type": "execute_result"
    }
   ],
   "source": [
    "number_additions.groupby('gender')['number_additions'].describe().round(1)"
   ]
  },
  {
   "cell_type": "code",
   "execution_count": 46,
   "id": "0342bb65",
   "metadata": {},
   "outputs": [
    {
     "data": {
      "text/plain": [
       "<AxesSubplot:xlabel='gender', ylabel='number_additions'>"
      ]
     },
     "execution_count": 46,
     "metadata": {},
     "output_type": "execute_result"
    },
    {
     "data": {
      "image/png": "[encoded data removed]",
      "text/plain": [
       "<Figure size 432x288 with 1 Axes>"
      ]
     },
     "metadata": {
      "needs_background": "light"
     },
     "output_type": "display_data"
    }
   ],
   "source": [
    "plt.ticklabel_format(style='plain', axis='x')\n",
    "seaborn.boxplot(x='gender', y='number_additions', \n",
    "            data=number_additions)"
   ]
  },
  {
   "cell_type": "code",
   "execution_count": 47,
   "id": "ef46ce0b",
   "metadata": {},
   "outputs": [
    {
     "data": {
      "image/png": "[encoded data removed]",
      "text/plain": [
       "<Figure size 432x288 with 1 Axes>"
      ]
     },
     "metadata": {
      "needs_background": "light"
     },
     "output_type": "display_data"
    }
   ],
   "source": [
    "ax = seaborn.histplot(x='number_additions',data=number_additions,hue='gender')\n",
    "plt.show()"
   ]
  },
  {
   "cell_type": "code",
   "execution_count": 48,
   "id": "b6f07030",
   "metadata": {},
   "outputs": [
    {
     "data": {
      "image/png": "[encoded data removed]",
      "text/plain": [
       "<Figure size 432x288 with 1 Axes>"
      ]
     },
     "metadata": {
      "needs_background": "light"
     },
     "output_type": "display_data"
    }
   ],
   "source": [
    "seaborn.kdeplot(x='number_additions',data=number_additions,hue='gender')\n",
    "plt.show()"
   ]
  },
  {
   "cell_type": "code",
   "execution_count": 51,
   "id": "70a01b6e",
   "metadata": {},
   "outputs": [
    {
     "data": {
      "text/plain": [
       "1480"
      ]
     },
     "execution_count": 51,
     "metadata": {},
     "output_type": "execute_result"
    }
   ],
   "source": [
    "user_node['login'].nunique()"
   ]
  },
  {
   "cell_type": "code",
   "execution_count": 52,
   "id": "0c03d41e",
   "metadata": {},
   "outputs": [
    {
     "data": {
      "text/plain": [
       "gender\n",
       "female      185\n",
       "male       1086\n",
       "other        39\n",
       "unknown     170\n",
       "Name: login, dtype: int64"
      ]
     },
     "execution_count": 52,
     "metadata": {},
     "output_type": "execute_result"
    }
   ],
   "source": [
    "user_node.groupby('gender')['login'].nunique()"
   ]
  },
  {
   "cell_type": "code",
   "execution_count": null,
   "id": "6563abea",
   "metadata": {},
   "outputs": [],
   "source": []
  }
 ],
 "metadata": {
  "kernelspec": {
   "display_name": "Python 3",
   "language": "python",
   "name": "python3"
  },
  "language_info": {
   "codemirror_mode": {
    "name": "ipython",
    "version": 3
   },
   "file_extension": ".py",
   "mimetype": "text/x-python",
   "name": "python",
   "nbconvert_exporter": "python",
   "pygments_lexer": "ipython3",
   "version": "3.8.5"
  }
 },
 "nbformat": 4,
 "nbformat_minor": 5
}
