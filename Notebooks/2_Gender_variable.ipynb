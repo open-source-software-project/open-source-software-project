{
 "cells": [
  {
   "cell_type": "code",
   "execution_count": 1,
   "id": "9a457818",
   "metadata": {},
   "outputs": [],
   "source": [
    "import pandas as pd"
   ]
  },
  {
   "cell_type": "code",
   "execution_count": 8,
   "id": "751f6ce7",
   "metadata": {},
   "outputs": [],
   "source": [
    "user_node = pd.read_csv('User_node_imputed_gender.csv')"
   ]
  },
  {
   "cell_type": "code",
   "execution_count": 9,
   "id": "3f8020e6",
   "metadata": {},
   "outputs": [
    {
     "data": {
      "text/plain": [
       "1483"
      ]
     },
     "execution_count": 9,
     "metadata": {},
     "output_type": "execute_result"
    }
   ],
   "source": [
    "len(user_node)"
   ]
  },
  {
   "cell_type": "markdown",
   "id": "5541dc0f",
   "metadata": {},
   "source": [
    "# Differences by gender"
   ]
  },
  {
   "cell_type": "markdown",
   "id": "fecde2ed",
   "metadata": {},
   "source": [
    "**Gender variable**:\n",
    "- Individuals with missing gender in Wikidata had their gender imputed based on the first name.\n",
    "    - Mostly_male and mostly_female are included in the respective male and female categories; andy and non-binary are included in the other category.\n",
    "- Gender variable is then created the following way: if gender is missing in Wikidata, include imputed gender; otherwise, use Wikidata gender."
   ]
  },
  {
   "cell_type": "code",
   "execution_count": 10,
   "id": "37e0b21f",
   "metadata": {},
   "outputs": [
    {
     "data": {
      "text/html": [
       "<div>\n",
       "<style scoped>\n",
       "    .dataframe tbody tr th:only-of-type {\n",
       "        vertical-align: middle;\n",
       "    }\n",
       "\n",
       "    .dataframe tbody tr th {\n",
       "        vertical-align: top;\n",
       "    }\n",
       "\n",
       "    .dataframe thead th {\n",
       "        text-align: right;\n",
       "    }\n",
       "</style>\n",
       "<table border=\"1\" class=\"dataframe\">\n",
       "  <thead>\n",
       "    <tr style=\"text-align: right;\">\n",
       "      <th></th>\n",
       "      <th>imputed_gender</th>\n",
       "      <th>login</th>\n",
       "    </tr>\n",
       "  </thead>\n",
       "  <tbody>\n",
       "    <tr>\n",
       "      <th>2</th>\n",
       "      <td>male</td>\n",
       "      <td>969</td>\n",
       "    </tr>\n",
       "    <tr>\n",
       "      <th>5</th>\n",
       "      <td>unknown</td>\n",
       "      <td>239</td>\n",
       "    </tr>\n",
       "    <tr>\n",
       "      <th>1</th>\n",
       "      <td>female</td>\n",
       "      <td>154</td>\n",
       "    </tr>\n",
       "    <tr>\n",
       "      <th>4</th>\n",
       "      <td>mostly_male</td>\n",
       "      <td>48</td>\n",
       "    </tr>\n",
       "    <tr>\n",
       "      <th>0</th>\n",
       "      <td>andy</td>\n",
       "      <td>47</td>\n",
       "    </tr>\n",
       "    <tr>\n",
       "      <th>3</th>\n",
       "      <td>mostly_female</td>\n",
       "      <td>24</td>\n",
       "    </tr>\n",
       "  </tbody>\n",
       "</table>\n",
       "</div>"
      ],
      "text/plain": [
       "  imputed_gender  login\n",
       "2           male    969\n",
       "5        unknown    239\n",
       "1         female    154\n",
       "4    mostly_male     48\n",
       "0           andy     47\n",
       "3  mostly_female     24"
      ]
     },
     "execution_count": 10,
     "metadata": {},
     "output_type": "execute_result"
    }
   ],
   "source": [
    "user_node.groupby('imputed_gender')['login'].nunique().reset_index().sort_values('login', ascending=False)"
   ]
  },
  {
   "cell_type": "code",
   "execution_count": 11,
   "id": "881c0d52",
   "metadata": {},
   "outputs": [
    {
     "data": {
      "text/html": [
       "<div>\n",
       "<style scoped>\n",
       "    .dataframe tbody tr th:only-of-type {\n",
       "        vertical-align: middle;\n",
       "    }\n",
       "\n",
       "    .dataframe tbody tr th {\n",
       "        vertical-align: top;\n",
       "    }\n",
       "\n",
       "    .dataframe thead th {\n",
       "        text-align: right;\n",
       "    }\n",
       "</style>\n",
       "<table border=\"1\" class=\"dataframe\">\n",
       "  <thead>\n",
       "    <tr style=\"text-align: right;\">\n",
       "      <th></th>\n",
       "      <th>sex or gender</th>\n",
       "      <th>login</th>\n",
       "    </tr>\n",
       "  </thead>\n",
       "  <tbody>\n",
       "    <tr>\n",
       "      <th>1</th>\n",
       "      <td>male</td>\n",
       "      <td>767</td>\n",
       "    </tr>\n",
       "    <tr>\n",
       "      <th>0</th>\n",
       "      <td>female</td>\n",
       "      <td>116</td>\n",
       "    </tr>\n",
       "    <tr>\n",
       "      <th>2</th>\n",
       "      <td>non-binary</td>\n",
       "      <td>2</td>\n",
       "    </tr>\n",
       "  </tbody>\n",
       "</table>\n",
       "</div>"
      ],
      "text/plain": [
       "  sex or gender  login\n",
       "1          male    767\n",
       "0        female    116\n",
       "2    non-binary      2"
      ]
     },
     "execution_count": 11,
     "metadata": {},
     "output_type": "execute_result"
    }
   ],
   "source": [
    "user_node.groupby('sex or gender')['login'].nunique().reset_index().sort_values('login', ascending=False)"
   ]
  },
  {
   "cell_type": "markdown",
   "id": "43ce166d",
   "metadata": {},
   "source": [
    "Create the \"gender_updated\" variable, if the gender is missing, then update with the imputed gender"
   ]
  },
  {
   "cell_type": "code",
   "execution_count": 12,
   "id": "5fafc5aa",
   "metadata": {},
   "outputs": [],
   "source": [
    "user_node.loc[user_node['sex or gender'].isnull(), 'gender_updated'] = user_node['imputed_gender']"
   ]
  },
  {
   "cell_type": "code",
   "execution_count": 13,
   "id": "8c6e6810",
   "metadata": {},
   "outputs": [],
   "source": [
    "user_node.loc[user_node['sex or gender'].notnull(), 'gender_updated'] = user_node['sex or gender']"
   ]
  },
  {
   "cell_type": "code",
   "execution_count": 14,
   "id": "951a008e",
   "metadata": {},
   "outputs": [
    {
     "data": {
      "text/html": [
       "<div>\n",
       "<style scoped>\n",
       "    .dataframe tbody tr th:only-of-type {\n",
       "        vertical-align: middle;\n",
       "    }\n",
       "\n",
       "    .dataframe tbody tr th {\n",
       "        vertical-align: top;\n",
       "    }\n",
       "\n",
       "    .dataframe thead th {\n",
       "        text-align: right;\n",
       "    }\n",
       "</style>\n",
       "<table border=\"1\" class=\"dataframe\">\n",
       "  <thead>\n",
       "    <tr style=\"text-align: right;\">\n",
       "      <th></th>\n",
       "      <th>gender_updated</th>\n",
       "      <th>login</th>\n",
       "    </tr>\n",
       "  </thead>\n",
       "  <tbody>\n",
       "    <tr>\n",
       "      <th>2</th>\n",
       "      <td>male</td>\n",
       "      <td>1051</td>\n",
       "    </tr>\n",
       "    <tr>\n",
       "      <th>1</th>\n",
       "      <td>female</td>\n",
       "      <td>171</td>\n",
       "    </tr>\n",
       "    <tr>\n",
       "      <th>6</th>\n",
       "      <td>unknown</td>\n",
       "      <td>170</td>\n",
       "    </tr>\n",
       "    <tr>\n",
       "      <th>0</th>\n",
       "      <td>andy</td>\n",
       "      <td>37</td>\n",
       "    </tr>\n",
       "    <tr>\n",
       "      <th>4</th>\n",
       "      <td>mostly_male</td>\n",
       "      <td>35</td>\n",
       "    </tr>\n",
       "    <tr>\n",
       "      <th>3</th>\n",
       "      <td>mostly_female</td>\n",
       "      <td>15</td>\n",
       "    </tr>\n",
       "    <tr>\n",
       "      <th>5</th>\n",
       "      <td>non-binary</td>\n",
       "      <td>2</td>\n",
       "    </tr>\n",
       "  </tbody>\n",
       "</table>\n",
       "</div>"
      ],
      "text/plain": [
       "  gender_updated  login\n",
       "2           male   1051\n",
       "1         female    171\n",
       "6        unknown    170\n",
       "0           andy     37\n",
       "4    mostly_male     35\n",
       "3  mostly_female     15\n",
       "5     non-binary      2"
      ]
     },
     "execution_count": 14,
     "metadata": {},
     "output_type": "execute_result"
    }
   ],
   "source": [
    "user_node.groupby('gender_updated')['login'].nunique().reset_index().sort_values('login', ascending=False)"
   ]
  },
  {
   "cell_type": "code",
   "execution_count": 15,
   "id": "498199e6",
   "metadata": {},
   "outputs": [],
   "source": [
    "# Compare with the package gender"
   ]
  },
  {
   "cell_type": "code",
   "execution_count": 16,
   "id": "be433cf0",
   "metadata": {},
   "outputs": [],
   "source": [
    "user_node.loc[user_node['imputed_gender'] == 'unknown', 'gender_updated_imputed'] = user_node['sex or gender']"
   ]
  },
  {
   "cell_type": "code",
   "execution_count": 17,
   "id": "9af59139",
   "metadata": {},
   "outputs": [],
   "source": [
    "user_node.loc[user_node['imputed_gender'] != 'unknown', 'gender_updated_imputed'] = user_node['imputed_gender']"
   ]
  },
  {
   "cell_type": "code",
   "execution_count": 18,
   "id": "c56b0b0a",
   "metadata": {},
   "outputs": [
    {
     "data": {
      "text/html": [
       "<div>\n",
       "<style scoped>\n",
       "    .dataframe tbody tr th:only-of-type {\n",
       "        vertical-align: middle;\n",
       "    }\n",
       "\n",
       "    .dataframe tbody tr th {\n",
       "        vertical-align: top;\n",
       "    }\n",
       "\n",
       "    .dataframe thead th {\n",
       "        text-align: right;\n",
       "    }\n",
       "</style>\n",
       "<table border=\"1\" class=\"dataframe\">\n",
       "  <thead>\n",
       "    <tr style=\"text-align: right;\">\n",
       "      <th></th>\n",
       "      <th>gender_updated_imputed</th>\n",
       "      <th>login</th>\n",
       "    </tr>\n",
       "  </thead>\n",
       "  <tbody>\n",
       "    <tr>\n",
       "      <th>2</th>\n",
       "      <td>male</td>\n",
       "      <td>1025</td>\n",
       "    </tr>\n",
       "    <tr>\n",
       "      <th>1</th>\n",
       "      <td>female</td>\n",
       "      <td>167</td>\n",
       "    </tr>\n",
       "    <tr>\n",
       "      <th>4</th>\n",
       "      <td>mostly_male</td>\n",
       "      <td>48</td>\n",
       "    </tr>\n",
       "    <tr>\n",
       "      <th>0</th>\n",
       "      <td>andy</td>\n",
       "      <td>47</td>\n",
       "    </tr>\n",
       "    <tr>\n",
       "      <th>3</th>\n",
       "      <td>mostly_female</td>\n",
       "      <td>24</td>\n",
       "    </tr>\n",
       "  </tbody>\n",
       "</table>\n",
       "</div>"
      ],
      "text/plain": [
       "  gender_updated_imputed  login\n",
       "2                   male   1025\n",
       "1                 female    167\n",
       "4            mostly_male     48\n",
       "0                   andy     47\n",
       "3          mostly_female     24"
      ]
     },
     "execution_count": 18,
     "metadata": {},
     "output_type": "execute_result"
    }
   ],
   "source": [
    "user_node.groupby('gender_updated_imputed')['login'].nunique().reset_index().sort_values('login', ascending=False)"
   ]
  },
  {
   "cell_type": "code",
   "execution_count": 19,
   "id": "15e48bfe",
   "metadata": {},
   "outputs": [],
   "source": [
    "user_node.loc[user_node['gender_updated'] == 'mostly_male', 'gender_updated'] = 'male'\n",
    "user_node.loc[user_node['gender_updated'] == 'mostly_female', 'gender_updated'] = 'female'"
   ]
  },
  {
   "cell_type": "code",
   "execution_count": 20,
   "id": "293e8515",
   "metadata": {},
   "outputs": [],
   "source": [
    "user_node.loc[user_node['gender_updated'] == 'andy', 'gender_updated'] = 'other'\n",
    "user_node.loc[user_node['gender_updated'] == 'non-binary', 'gender_updated'] = 'other'"
   ]
  },
  {
   "cell_type": "code",
   "execution_count": 21,
   "id": "23fc7c77",
   "metadata": {},
   "outputs": [],
   "source": [
    "user_gender = user_node.groupby('gender_updated')['login'].nunique().reset_index().sort_values('login', ascending=False)"
   ]
  },
  {
   "cell_type": "code",
   "execution_count": 22,
   "id": "a93d502f",
   "metadata": {},
   "outputs": [],
   "source": [
    "user_gender['total'] = user_gender['login'].sum()"
   ]
  },
  {
   "cell_type": "code",
   "execution_count": 23,
   "id": "7740d2e9",
   "metadata": {},
   "outputs": [],
   "source": [
    "user_gender['percentage'] = ((user_gender['login'] / user_gender['total'])*100).round(2)"
   ]
  },
  {
   "cell_type": "code",
   "execution_count": 25,
   "id": "160321c9",
   "metadata": {},
   "outputs": [],
   "source": [
    "user_gender = user_gender.rename(columns={'gender_updated':'gender'})"
   ]
  },
  {
   "cell_type": "code",
   "execution_count": 26,
   "id": "1ffc2649",
   "metadata": {},
   "outputs": [
    {
     "data": {
      "text/html": [
       "<div>\n",
       "<style scoped>\n",
       "    .dataframe tbody tr th:only-of-type {\n",
       "        vertical-align: middle;\n",
       "    }\n",
       "\n",
       "    .dataframe tbody tr th {\n",
       "        vertical-align: top;\n",
       "    }\n",
       "\n",
       "    .dataframe thead th {\n",
       "        text-align: right;\n",
       "    }\n",
       "</style>\n",
       "<table border=\"1\" class=\"dataframe\">\n",
       "  <thead>\n",
       "    <tr style=\"text-align: right;\">\n",
       "      <th></th>\n",
       "      <th>gender</th>\n",
       "      <th>login</th>\n",
       "      <th>total</th>\n",
       "      <th>percentage</th>\n",
       "    </tr>\n",
       "  </thead>\n",
       "  <tbody>\n",
       "    <tr>\n",
       "      <th>1</th>\n",
       "      <td>male</td>\n",
       "      <td>1086</td>\n",
       "      <td>1481</td>\n",
       "      <td>73.33</td>\n",
       "    </tr>\n",
       "    <tr>\n",
       "      <th>0</th>\n",
       "      <td>female</td>\n",
       "      <td>186</td>\n",
       "      <td>1481</td>\n",
       "      <td>12.56</td>\n",
       "    </tr>\n",
       "    <tr>\n",
       "      <th>3</th>\n",
       "      <td>unknown</td>\n",
       "      <td>170</td>\n",
       "      <td>1481</td>\n",
       "      <td>11.48</td>\n",
       "    </tr>\n",
       "    <tr>\n",
       "      <th>2</th>\n",
       "      <td>other</td>\n",
       "      <td>39</td>\n",
       "      <td>1481</td>\n",
       "      <td>2.63</td>\n",
       "    </tr>\n",
       "  </tbody>\n",
       "</table>\n",
       "</div>"
      ],
      "text/plain": [
       "    gender  login  total  percentage\n",
       "1     male   1086   1481       73.33\n",
       "0   female    186   1481       12.56\n",
       "3  unknown    170   1481       11.48\n",
       "2    other     39   1481        2.63"
      ]
     },
     "execution_count": 26,
     "metadata": {},
     "output_type": "execute_result"
    }
   ],
   "source": [
    "user_gender"
   ]
  },
  {
   "cell_type": "markdown",
   "id": "962dbca5",
   "metadata": {},
   "source": [
    "In a 2013 survey of the more than 2000 open source developers who indicated a gender, only 11.2% were women (Arjona-Reina, Robles & Dueas, 2014).\n",
    "Source: https://peerj.com/articles/cs-111/"
   ]
  },
  {
   "cell_type": "code",
   "execution_count": 29,
   "id": "b4b1401d",
   "metadata": {},
   "outputs": [],
   "source": [
    "user_node.loc[user_node['gender_updated'] == 'male', 'hue'] = 'male'\n",
    "user_node.loc[user_node['gender_updated'] == 'female', 'hue'] = 'female'"
   ]
  },
  {
   "cell_type": "code",
   "execution_count": 30,
   "id": "9df69223",
   "metadata": {},
   "outputs": [],
   "source": [
    "users = user_node.groupby('login').size().reset_index()"
   ]
  },
  {
   "cell_type": "code",
   "execution_count": 31,
   "id": "ac7def4e",
   "metadata": {},
   "outputs": [
    {
     "data": {
      "text/html": [
       "<div>\n",
       "<style scoped>\n",
       "    .dataframe tbody tr th:only-of-type {\n",
       "        vertical-align: middle;\n",
       "    }\n",
       "\n",
       "    .dataframe tbody tr th {\n",
       "        vertical-align: top;\n",
       "    }\n",
       "\n",
       "    .dataframe thead th {\n",
       "        text-align: right;\n",
       "    }\n",
       "</style>\n",
       "<table border=\"1\" class=\"dataframe\">\n",
       "  <thead>\n",
       "    <tr style=\"text-align: right;\">\n",
       "      <th></th>\n",
       "      <th>login</th>\n",
       "      <th>0</th>\n",
       "    </tr>\n",
       "  </thead>\n",
       "  <tbody>\n",
       "    <tr>\n",
       "      <th>231</th>\n",
       "      <td>arives</td>\n",
       "      <td>2</td>\n",
       "    </tr>\n",
       "    <tr>\n",
       "      <th>932</th>\n",
       "      <td>mhpob</td>\n",
       "      <td>2</td>\n",
       "    </tr>\n",
       "  </tbody>\n",
       "</table>\n",
       "</div>"
      ],
      "text/plain": [
       "      login  0\n",
       "231  arives  2\n",
       "932   mhpob  2"
      ]
     },
     "execution_count": 31,
     "metadata": {},
     "output_type": "execute_result"
    }
   ],
   "source": [
    "users[users[0] == 2]"
   ]
  },
  {
   "cell_type": "code",
   "execution_count": 32,
   "id": "45e9f4cb",
   "metadata": {},
   "outputs": [],
   "source": [
    "user_node = user_node.drop_duplicates(subset='login')"
   ]
  },
  {
   "cell_type": "code",
   "execution_count": 33,
   "id": "c131b7dc",
   "metadata": {},
   "outputs": [
    {
     "data": {
      "text/plain": [
       "1481"
      ]
     },
     "execution_count": 33,
     "metadata": {},
     "output_type": "execute_result"
    }
   ],
   "source": [
    "len(user_node)"
   ]
  },
  {
   "cell_type": "code",
   "execution_count": 34,
   "id": "dbbf51dc",
   "metadata": {},
   "outputs": [],
   "source": [
    "user_node.to_csv('User_node_gender_updated.csv', index=False)"
   ]
  },
  {
   "cell_type": "code",
   "execution_count": null,
   "id": "db78f430",
   "metadata": {},
   "outputs": [],
   "source": []
  }
 ],
 "metadata": {
  "kernelspec": {
   "display_name": "Python 3",
   "language": "python",
   "name": "python3"
  },
  "language_info": {
   "codemirror_mode": {
    "name": "ipython",
    "version": 3
   },
   "file_extension": ".py",
   "mimetype": "text/x-python",
   "name": "python",
   "nbconvert_exporter": "python",
   "pygments_lexer": "ipython3",
   "version": "3.8.5"
  }
 },
 "nbformat": 4,
 "nbformat_minor": 5
}
