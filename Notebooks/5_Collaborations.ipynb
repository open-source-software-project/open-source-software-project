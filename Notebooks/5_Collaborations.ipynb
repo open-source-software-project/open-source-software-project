{
 "cells": [
  {
   "cell_type": "code",
   "execution_count": 1,
   "id": "d2ca19a5",
   "metadata": {},
   "outputs": [],
   "source": [
    "import pandas as pd"
   ]
  },
  {
   "cell_type": "code",
   "execution_count": 2,
   "id": "b26c0d6f",
   "metadata": {},
   "outputs": [],
   "source": [
    "user_node = pd.read_csv('User_node_gender_updated.csv')"
   ]
  },
  {
   "cell_type": "code",
   "execution_count": 3,
   "id": "5f6ec1c3",
   "metadata": {},
   "outputs": [
    {
     "data": {
      "text/plain": [
       "1481"
      ]
     },
     "execution_count": 3,
     "metadata": {},
     "output_type": "execute_result"
    }
   ],
   "source": [
    "len(user_node)"
   ]
  },
  {
   "cell_type": "code",
   "execution_count": 4,
   "id": "01d25d0f",
   "metadata": {},
   "outputs": [],
   "source": [
    "user_node = user_node[user_node['number_slugs'].notnull()]"
   ]
  },
  {
   "cell_type": "code",
   "execution_count": 5,
   "id": "0b9acab7",
   "metadata": {},
   "outputs": [
    {
     "data": {
      "text/plain": [
       "1480"
      ]
     },
     "execution_count": 5,
     "metadata": {},
     "output_type": "execute_result"
    }
   ],
   "source": [
    "len(user_node)"
   ]
  },
  {
   "cell_type": "markdown",
   "id": "fd5f3ec0",
   "metadata": {},
   "source": [
    "# Collaborations by gender"
   ]
  },
  {
   "cell_type": "markdown",
   "id": "5b4ba9e2",
   "metadata": {},
   "source": [
    "Create file with edges by gender"
   ]
  },
  {
   "cell_type": "code",
   "execution_count": 8,
   "id": "269d0178",
   "metadata": {},
   "outputs": [],
   "source": [
    "user_edge = pd.read_csv('User_edge.csv')"
   ]
  },
  {
   "cell_type": "code",
   "execution_count": 9,
   "id": "1f387ebd",
   "metadata": {},
   "outputs": [],
   "source": [
    "unique_users = user_edge['source'].unique().tolist() + user_edge['target'].unique().tolist()"
   ]
  },
  {
   "cell_type": "code",
   "execution_count": 10,
   "id": "1263b785",
   "metadata": {},
   "outputs": [],
   "source": [
    "unique_users = list(set(unique_users))"
   ]
  },
  {
   "cell_type": "code",
   "execution_count": 11,
   "id": "d0bda0b0",
   "metadata": {},
   "outputs": [
    {
     "data": {
      "text/plain": [
       "437"
      ]
     },
     "execution_count": 11,
     "metadata": {},
     "output_type": "execute_result"
    }
   ],
   "source": [
    "len(unique_users)"
   ]
  },
  {
   "cell_type": "code",
   "execution_count": 12,
   "id": "ed9683cd",
   "metadata": {},
   "outputs": [],
   "source": [
    "df = []\n",
    "\n",
    "for i in unique_users:\n",
    "    source = user_edge[user_edge['source'] == i]\n",
    "    target = user_edge[user_edge['target'] == i]\n",
    "    target = target.rename(columns={'target': 'source',\n",
    "                                   'source': 'target'})\n",
    "    \n",
    "    source_target = pd.concat([source,target])\n",
    "    \n",
    "    df.append(source_target)    "
   ]
  },
  {
   "cell_type": "code",
   "execution_count": 13,
   "id": "438f93dc",
   "metadata": {},
   "outputs": [],
   "source": [
    "df_updated = pd.concat(df)"
   ]
  },
  {
   "cell_type": "code",
   "execution_count": 14,
   "id": "fdcaa596",
   "metadata": {},
   "outputs": [
    {
     "data": {
      "text/html": [
       "<div>\n",
       "<style scoped>\n",
       "    .dataframe tbody tr th:only-of-type {\n",
       "        vertical-align: middle;\n",
       "    }\n",
       "\n",
       "    .dataframe tbody tr th {\n",
       "        vertical-align: top;\n",
       "    }\n",
       "\n",
       "    .dataframe thead th {\n",
       "        text-align: right;\n",
       "    }\n",
       "</style>\n",
       "<table border=\"1\" class=\"dataframe\">\n",
       "  <thead>\n",
       "    <tr style=\"text-align: right;\">\n",
       "      <th></th>\n",
       "      <th>source</th>\n",
       "      <th>target</th>\n",
       "      <th>weight</th>\n",
       "    </tr>\n",
       "  </thead>\n",
       "  <tbody>\n",
       "    <tr>\n",
       "      <th>1724</th>\n",
       "      <td>zkamvar</td>\n",
       "      <td>hlapp</td>\n",
       "      <td>2</td>\n",
       "    </tr>\n",
       "    <tr>\n",
       "      <th>1725</th>\n",
       "      <td>zkamvar</td>\n",
       "      <td>jrcpulliam</td>\n",
       "      <td>2</td>\n",
       "    </tr>\n",
       "    <tr>\n",
       "      <th>1726</th>\n",
       "      <td>zkamvar</td>\n",
       "      <td>knausb</td>\n",
       "      <td>1</td>\n",
       "    </tr>\n",
       "    <tr>\n",
       "      <th>1727</th>\n",
       "      <td>zkamvar</td>\n",
       "      <td>njtierney</td>\n",
       "      <td>1</td>\n",
       "    </tr>\n",
       "    <tr>\n",
       "      <th>1728</th>\n",
       "      <td>zkamvar</td>\n",
       "      <td>smjenness</td>\n",
       "      <td>1</td>\n",
       "    </tr>\n",
       "    <tr>\n",
       "      <th>1729</th>\n",
       "      <td>zkamvar</td>\n",
       "      <td>thibautjombart</td>\n",
       "      <td>6</td>\n",
       "    </tr>\n",
       "    <tr>\n",
       "      <th>97</th>\n",
       "      <td>zkamvar</td>\n",
       "      <td>DarwinAwardWinner</td>\n",
       "      <td>1</td>\n",
       "    </tr>\n",
       "  </tbody>\n",
       "</table>\n",
       "</div>"
      ],
      "text/plain": [
       "       source             target  weight\n",
       "1724  zkamvar              hlapp       2\n",
       "1725  zkamvar         jrcpulliam       2\n",
       "1726  zkamvar             knausb       1\n",
       "1727  zkamvar          njtierney       1\n",
       "1728  zkamvar          smjenness       1\n",
       "1729  zkamvar     thibautjombart       6\n",
       "97    zkamvar  DarwinAwardWinner       1"
      ]
     },
     "execution_count": 14,
     "metadata": {},
     "output_type": "execute_result"
    }
   ],
   "source": [
    "df_updated[df_updated['source'] == 'zkamvar']"
   ]
  },
  {
   "cell_type": "code",
   "execution_count": 15,
   "id": "18a399b0",
   "metadata": {},
   "outputs": [
    {
     "data": {
      "text/html": [
       "<div>\n",
       "<style scoped>\n",
       "    .dataframe tbody tr th:only-of-type {\n",
       "        vertical-align: middle;\n",
       "    }\n",
       "\n",
       "    .dataframe tbody tr th {\n",
       "        vertical-align: top;\n",
       "    }\n",
       "\n",
       "    .dataframe thead th {\n",
       "        text-align: right;\n",
       "    }\n",
       "</style>\n",
       "<table border=\"1\" class=\"dataframe\">\n",
       "  <thead>\n",
       "    <tr style=\"text-align: right;\">\n",
       "      <th></th>\n",
       "      <th>source</th>\n",
       "      <th>target</th>\n",
       "      <th>weight</th>\n",
       "    </tr>\n",
       "  </thead>\n",
       "  <tbody>\n",
       "    <tr>\n",
       "      <th>1724</th>\n",
       "      <td>zkamvar</td>\n",
       "      <td>hlapp</td>\n",
       "      <td>2</td>\n",
       "    </tr>\n",
       "    <tr>\n",
       "      <th>1725</th>\n",
       "      <td>zkamvar</td>\n",
       "      <td>jrcpulliam</td>\n",
       "      <td>2</td>\n",
       "    </tr>\n",
       "    <tr>\n",
       "      <th>1726</th>\n",
       "      <td>zkamvar</td>\n",
       "      <td>knausb</td>\n",
       "      <td>1</td>\n",
       "    </tr>\n",
       "    <tr>\n",
       "      <th>1727</th>\n",
       "      <td>zkamvar</td>\n",
       "      <td>njtierney</td>\n",
       "      <td>1</td>\n",
       "    </tr>\n",
       "    <tr>\n",
       "      <th>1728</th>\n",
       "      <td>zkamvar</td>\n",
       "      <td>smjenness</td>\n",
       "      <td>1</td>\n",
       "    </tr>\n",
       "    <tr>\n",
       "      <th>1729</th>\n",
       "      <td>zkamvar</td>\n",
       "      <td>thibautjombart</td>\n",
       "      <td>6</td>\n",
       "    </tr>\n",
       "  </tbody>\n",
       "</table>\n",
       "</div>"
      ],
      "text/plain": [
       "       source          target  weight\n",
       "1724  zkamvar           hlapp       2\n",
       "1725  zkamvar      jrcpulliam       2\n",
       "1726  zkamvar          knausb       1\n",
       "1727  zkamvar       njtierney       1\n",
       "1728  zkamvar       smjenness       1\n",
       "1729  zkamvar  thibautjombart       6"
      ]
     },
     "execution_count": 15,
     "metadata": {},
     "output_type": "execute_result"
    }
   ],
   "source": [
    "user_edge[user_edge['source'] == 'zkamvar']"
   ]
  },
  {
   "cell_type": "code",
   "execution_count": 16,
   "id": "a2f51712",
   "metadata": {},
   "outputs": [
    {
     "data": {
      "text/html": [
       "<div>\n",
       "<style scoped>\n",
       "    .dataframe tbody tr th:only-of-type {\n",
       "        vertical-align: middle;\n",
       "    }\n",
       "\n",
       "    .dataframe tbody tr th {\n",
       "        vertical-align: top;\n",
       "    }\n",
       "\n",
       "    .dataframe thead th {\n",
       "        text-align: right;\n",
       "    }\n",
       "</style>\n",
       "<table border=\"1\" class=\"dataframe\">\n",
       "  <thead>\n",
       "    <tr style=\"text-align: right;\">\n",
       "      <th></th>\n",
       "      <th>source</th>\n",
       "      <th>target</th>\n",
       "      <th>weight</th>\n",
       "    </tr>\n",
       "  </thead>\n",
       "  <tbody>\n",
       "    <tr>\n",
       "      <th>97</th>\n",
       "      <td>DarwinAwardWinner</td>\n",
       "      <td>zkamvar</td>\n",
       "      <td>1</td>\n",
       "    </tr>\n",
       "  </tbody>\n",
       "</table>\n",
       "</div>"
      ],
      "text/plain": [
       "               source   target  weight\n",
       "97  DarwinAwardWinner  zkamvar       1"
      ]
     },
     "execution_count": 16,
     "metadata": {},
     "output_type": "execute_result"
    }
   ],
   "source": [
    "user_edge[user_edge['target'] == 'zkamvar']"
   ]
  },
  {
   "cell_type": "code",
   "execution_count": 17,
   "id": "bdf94db1",
   "metadata": {},
   "outputs": [
    {
     "data": {
      "text/plain": [
       "437"
      ]
     },
     "execution_count": 17,
     "metadata": {},
     "output_type": "execute_result"
    }
   ],
   "source": [
    "df_updated['source'].nunique()"
   ]
  },
  {
   "cell_type": "code",
   "execution_count": 18,
   "id": "a69622ab",
   "metadata": {},
   "outputs": [],
   "source": [
    "df_updated = df_updated.merge(user_node, left_on='source', right_on='login')"
   ]
  },
  {
   "cell_type": "code",
   "execution_count": 19,
   "id": "a138179f",
   "metadata": {},
   "outputs": [],
   "source": [
    "df_updated = df_updated[['source','target','weight', 'gender_updated']]"
   ]
  },
  {
   "cell_type": "code",
   "execution_count": 20,
   "id": "7a72f036",
   "metadata": {},
   "outputs": [],
   "source": [
    "df_updated = df_updated.rename(columns={'gender_updated':'source_gender'})"
   ]
  },
  {
   "cell_type": "code",
   "execution_count": 21,
   "id": "0d5ffff1",
   "metadata": {},
   "outputs": [],
   "source": [
    "df_updated = df_updated.merge(user_node, left_on='target', right_on='login')"
   ]
  },
  {
   "cell_type": "code",
   "execution_count": 22,
   "id": "1efac8da",
   "metadata": {},
   "outputs": [],
   "source": [
    "df_updated = df_updated[['source','target','weight', 'source_gender','gender_updated']]"
   ]
  },
  {
   "cell_type": "code",
   "execution_count": 23,
   "id": "009ef8a5",
   "metadata": {},
   "outputs": [],
   "source": [
    "df_updated = df_updated.rename(columns={'gender_updated':'target_gender'})"
   ]
  },
  {
   "cell_type": "code",
   "execution_count": 24,
   "id": "262b09ce",
   "metadata": {},
   "outputs": [
    {
     "data": {
      "text/plain": [
       "264"
      ]
     },
     "execution_count": 24,
     "metadata": {},
     "output_type": "execute_result"
    }
   ],
   "source": [
    "user_edge['source'].nunique()"
   ]
  },
  {
   "cell_type": "code",
   "execution_count": 25,
   "id": "a96811d9",
   "metadata": {},
   "outputs": [
    {
     "data": {
      "text/plain": [
       "379"
      ]
     },
     "execution_count": 25,
     "metadata": {},
     "output_type": "execute_result"
    }
   ],
   "source": [
    "user_edge['target'].nunique()"
   ]
  },
  {
   "cell_type": "code",
   "execution_count": 26,
   "id": "c567a21e",
   "metadata": {},
   "outputs": [
    {
     "data": {
      "text/plain": [
       "1731"
      ]
     },
     "execution_count": 26,
     "metadata": {},
     "output_type": "execute_result"
    }
   ],
   "source": [
    "len(user_edge)"
   ]
  },
  {
   "cell_type": "code",
   "execution_count": 27,
   "id": "b8ce188a",
   "metadata": {},
   "outputs": [],
   "source": [
    "user_node = user_node[['login', 'sex or gender', 'imputed_gender', 'gender_updated']]"
   ]
  },
  {
   "cell_type": "code",
   "execution_count": 28,
   "id": "136ecd47",
   "metadata": {},
   "outputs": [],
   "source": [
    "user_edge = user_edge.merge(user_node, left_on='source', right_on='login')"
   ]
  },
  {
   "cell_type": "code",
   "execution_count": 29,
   "id": "47753b88",
   "metadata": {},
   "outputs": [
    {
     "data": {
      "text/plain": [
       "264"
      ]
     },
     "execution_count": 29,
     "metadata": {},
     "output_type": "execute_result"
    }
   ],
   "source": [
    "user_edge['source'].nunique()"
   ]
  },
  {
   "cell_type": "code",
   "execution_count": 30,
   "id": "df42c1e1",
   "metadata": {},
   "outputs": [
    {
     "data": {
      "text/plain": [
       "379"
      ]
     },
     "execution_count": 30,
     "metadata": {},
     "output_type": "execute_result"
    }
   ],
   "source": [
    "user_edge['target'].nunique()"
   ]
  },
  {
   "cell_type": "code",
   "execution_count": 31,
   "id": "5708a876",
   "metadata": {},
   "outputs": [
    {
     "data": {
      "text/plain": [
       "1731"
      ]
     },
     "execution_count": 31,
     "metadata": {},
     "output_type": "execute_result"
    }
   ],
   "source": [
    "len(user_edge)"
   ]
  },
  {
   "cell_type": "code",
   "execution_count": 32,
   "id": "3b50677a",
   "metadata": {},
   "outputs": [],
   "source": [
    "user_edge = user_edge.drop(columns='login')"
   ]
  },
  {
   "cell_type": "code",
   "execution_count": 33,
   "id": "c4e814aa",
   "metadata": {},
   "outputs": [],
   "source": [
    "user_edge = user_edge.rename(columns={'sex or gender':'sex or gender_source',\n",
    "                                     'imputed_gender': 'imputed_gender_source',\n",
    "                                     'gender_updated': 'gender_updated_source'})"
   ]
  },
  {
   "cell_type": "code",
   "execution_count": 34,
   "id": "2d214bbe",
   "metadata": {},
   "outputs": [],
   "source": [
    "user_edge = user_edge.merge(user_node, left_on='target', right_on='login')"
   ]
  },
  {
   "cell_type": "code",
   "execution_count": 35,
   "id": "40d92595",
   "metadata": {},
   "outputs": [
    {
     "data": {
      "text/plain": [
       "264"
      ]
     },
     "execution_count": 35,
     "metadata": {},
     "output_type": "execute_result"
    }
   ],
   "source": [
    "user_edge['source'].nunique()"
   ]
  },
  {
   "cell_type": "code",
   "execution_count": 36,
   "id": "b5f1e249",
   "metadata": {},
   "outputs": [
    {
     "data": {
      "text/plain": [
       "379"
      ]
     },
     "execution_count": 36,
     "metadata": {},
     "output_type": "execute_result"
    }
   ],
   "source": [
    "user_edge['target'].nunique()"
   ]
  },
  {
   "cell_type": "code",
   "execution_count": 37,
   "id": "7f22d346",
   "metadata": {},
   "outputs": [
    {
     "data": {
      "text/plain": [
       "1731"
      ]
     },
     "execution_count": 37,
     "metadata": {},
     "output_type": "execute_result"
    }
   ],
   "source": [
    "len(user_edge)"
   ]
  },
  {
   "cell_type": "code",
   "execution_count": 38,
   "id": "c9df308c",
   "metadata": {},
   "outputs": [
    {
     "data": {
      "text/plain": [
       "264"
      ]
     },
     "execution_count": 38,
     "metadata": {},
     "output_type": "execute_result"
    }
   ],
   "source": [
    "user_edge['source'].nunique()"
   ]
  },
  {
   "cell_type": "code",
   "execution_count": 39,
   "id": "f58aa83e",
   "metadata": {},
   "outputs": [
    {
     "data": {
      "text/plain": [
       "379"
      ]
     },
     "execution_count": 39,
     "metadata": {},
     "output_type": "execute_result"
    }
   ],
   "source": [
    "user_edge['target'].nunique()"
   ]
  },
  {
   "cell_type": "code",
   "execution_count": 40,
   "id": "3b4475f0",
   "metadata": {},
   "outputs": [],
   "source": [
    "user_edge = user_edge.drop(columns='login')"
   ]
  },
  {
   "cell_type": "code",
   "execution_count": 41,
   "id": "0eb5bdd2",
   "metadata": {},
   "outputs": [],
   "source": [
    "user_edge = user_edge.rename(columns={'sex or gender':'sex or gender_target',\n",
    "                                     'imputed_gender': 'imputed_gender_target',\n",
    "                                     'gender_updated': 'gender_updated_target'})"
   ]
  },
  {
   "cell_type": "code",
   "execution_count": 42,
   "id": "d7a93aea",
   "metadata": {},
   "outputs": [],
   "source": [
    "user_edge.to_csv('User_edge_gender_variables.csv', index=False)"
   ]
  },
  {
   "cell_type": "code",
   "execution_count": 43,
   "id": "cc078179",
   "metadata": {},
   "outputs": [],
   "source": [
    "user_edge_gender_updated = user_edge[['gender_updated_source','gender_updated_target','weight']]"
   ]
  },
  {
   "cell_type": "code",
   "execution_count": 45,
   "id": "62245d2a",
   "metadata": {},
   "outputs": [],
   "source": [
    "user_edge_gender_updated = user_edge_gender_updated.rename(columns={'gender_updated_source':'user_gender',\n",
    "                                                                   'gender_updated_target': 'collaborator_gender'})"
   ]
  },
  {
   "cell_type": "code",
   "execution_count": 46,
   "id": "5ea96073",
   "metadata": {},
   "outputs": [
    {
     "data": {
      "text/html": [
       "<div>\n",
       "<style scoped>\n",
       "    .dataframe tbody tr th:only-of-type {\n",
       "        vertical-align: middle;\n",
       "    }\n",
       "\n",
       "    .dataframe tbody tr th {\n",
       "        vertical-align: top;\n",
       "    }\n",
       "\n",
       "    .dataframe thead th {\n",
       "        text-align: right;\n",
       "    }\n",
       "</style>\n",
       "<table border=\"1\" class=\"dataframe\">\n",
       "  <thead>\n",
       "    <tr style=\"text-align: right;\">\n",
       "      <th></th>\n",
       "      <th>user_gender</th>\n",
       "      <th>collaborator_gender</th>\n",
       "      <th>weight</th>\n",
       "    </tr>\n",
       "  </thead>\n",
       "  <tbody>\n",
       "    <tr>\n",
       "      <th>0</th>\n",
       "      <td>male</td>\n",
       "      <td>male</td>\n",
       "      <td>1</td>\n",
       "    </tr>\n",
       "    <tr>\n",
       "      <th>1</th>\n",
       "      <td>male</td>\n",
       "      <td>male</td>\n",
       "      <td>1</td>\n",
       "    </tr>\n",
       "    <tr>\n",
       "      <th>2</th>\n",
       "      <td>male</td>\n",
       "      <td>male</td>\n",
       "      <td>1</td>\n",
       "    </tr>\n",
       "    <tr>\n",
       "      <th>3</th>\n",
       "      <td>male</td>\n",
       "      <td>male</td>\n",
       "      <td>1</td>\n",
       "    </tr>\n",
       "    <tr>\n",
       "      <th>4</th>\n",
       "      <td>male</td>\n",
       "      <td>male</td>\n",
       "      <td>1</td>\n",
       "    </tr>\n",
       "    <tr>\n",
       "      <th>...</th>\n",
       "      <td>...</td>\n",
       "      <td>...</td>\n",
       "      <td>...</td>\n",
       "    </tr>\n",
       "    <tr>\n",
       "      <th>1726</th>\n",
       "      <td>male</td>\n",
       "      <td>male</td>\n",
       "      <td>1</td>\n",
       "    </tr>\n",
       "    <tr>\n",
       "      <th>1727</th>\n",
       "      <td>male</td>\n",
       "      <td>male</td>\n",
       "      <td>1</td>\n",
       "    </tr>\n",
       "    <tr>\n",
       "      <th>1728</th>\n",
       "      <td>male</td>\n",
       "      <td>male</td>\n",
       "      <td>1</td>\n",
       "    </tr>\n",
       "    <tr>\n",
       "      <th>1729</th>\n",
       "      <td>unknown</td>\n",
       "      <td>female</td>\n",
       "      <td>2</td>\n",
       "    </tr>\n",
       "    <tr>\n",
       "      <th>1730</th>\n",
       "      <td>male</td>\n",
       "      <td>male</td>\n",
       "      <td>1</td>\n",
       "    </tr>\n",
       "  </tbody>\n",
       "</table>\n",
       "<p>1731 rows × 3 columns</p>\n",
       "</div>"
      ],
      "text/plain": [
       "     user_gender collaborator_gender  weight\n",
       "0           male                male       1\n",
       "1           male                male       1\n",
       "2           male                male       1\n",
       "3           male                male       1\n",
       "4           male                male       1\n",
       "...          ...                 ...     ...\n",
       "1726        male                male       1\n",
       "1727        male                male       1\n",
       "1728        male                male       1\n",
       "1729     unknown              female       2\n",
       "1730        male                male       1\n",
       "\n",
       "[1731 rows x 3 columns]"
      ]
     },
     "execution_count": 46,
     "metadata": {},
     "output_type": "execute_result"
    }
   ],
   "source": [
    "user_edge_gender_updated"
   ]
  },
  {
   "cell_type": "code",
   "execution_count": 348,
   "id": "30a7e68e",
   "metadata": {},
   "outputs": [],
   "source": [
    "# Update the gender categories"
   ]
  },
  {
   "cell_type": "code",
   "execution_count": 47,
   "id": "db1fe7f4",
   "metadata": {},
   "outputs": [
    {
     "data": {
      "text/html": [
       "<div>\n",
       "<style scoped>\n",
       "    .dataframe tbody tr th:only-of-type {\n",
       "        vertical-align: middle;\n",
       "    }\n",
       "\n",
       "    .dataframe tbody tr th {\n",
       "        vertical-align: top;\n",
       "    }\n",
       "\n",
       "    .dataframe thead th {\n",
       "        text-align: right;\n",
       "    }\n",
       "</style>\n",
       "<table border=\"1\" class=\"dataframe\">\n",
       "  <thead>\n",
       "    <tr style=\"text-align: right;\">\n",
       "      <th></th>\n",
       "      <th>user_gender</th>\n",
       "      <th>collaborator_gender</th>\n",
       "      <th>weight</th>\n",
       "    </tr>\n",
       "  </thead>\n",
       "  <tbody>\n",
       "    <tr>\n",
       "      <th>0</th>\n",
       "      <td>female</td>\n",
       "      <td>female</td>\n",
       "      <td>35</td>\n",
       "    </tr>\n",
       "    <tr>\n",
       "      <th>1</th>\n",
       "      <td>female</td>\n",
       "      <td>male</td>\n",
       "      <td>230</td>\n",
       "    </tr>\n",
       "    <tr>\n",
       "      <th>2</th>\n",
       "      <td>female</td>\n",
       "      <td>other</td>\n",
       "      <td>5</td>\n",
       "    </tr>\n",
       "    <tr>\n",
       "      <th>3</th>\n",
       "      <td>female</td>\n",
       "      <td>unknown</td>\n",
       "      <td>21</td>\n",
       "    </tr>\n",
       "    <tr>\n",
       "      <th>4</th>\n",
       "      <td>male</td>\n",
       "      <td>female</td>\n",
       "      <td>252</td>\n",
       "    </tr>\n",
       "    <tr>\n",
       "      <th>5</th>\n",
       "      <td>male</td>\n",
       "      <td>male</td>\n",
       "      <td>3542</td>\n",
       "    </tr>\n",
       "    <tr>\n",
       "      <th>6</th>\n",
       "      <td>male</td>\n",
       "      <td>other</td>\n",
       "      <td>14</td>\n",
       "    </tr>\n",
       "    <tr>\n",
       "      <th>7</th>\n",
       "      <td>male</td>\n",
       "      <td>unknown</td>\n",
       "      <td>199</td>\n",
       "    </tr>\n",
       "    <tr>\n",
       "      <th>8</th>\n",
       "      <td>unknown</td>\n",
       "      <td>female</td>\n",
       "      <td>22</td>\n",
       "    </tr>\n",
       "    <tr>\n",
       "      <th>9</th>\n",
       "      <td>unknown</td>\n",
       "      <td>male</td>\n",
       "      <td>198</td>\n",
       "    </tr>\n",
       "    <tr>\n",
       "      <th>10</th>\n",
       "      <td>unknown</td>\n",
       "      <td>other</td>\n",
       "      <td>1</td>\n",
       "    </tr>\n",
       "    <tr>\n",
       "      <th>11</th>\n",
       "      <td>unknown</td>\n",
       "      <td>unknown</td>\n",
       "      <td>14</td>\n",
       "    </tr>\n",
       "  </tbody>\n",
       "</table>\n",
       "</div>"
      ],
      "text/plain": [
       "   user_gender collaborator_gender  weight\n",
       "0       female              female      35\n",
       "1       female                male     230\n",
       "2       female               other       5\n",
       "3       female             unknown      21\n",
       "4         male              female     252\n",
       "5         male                male    3542\n",
       "6         male               other      14\n",
       "7         male             unknown     199\n",
       "8      unknown              female      22\n",
       "9      unknown                male     198\n",
       "10     unknown               other       1\n",
       "11     unknown             unknown      14"
      ]
     },
     "execution_count": 47,
     "metadata": {},
     "output_type": "execute_result"
    }
   ],
   "source": [
    "user_edge_gender_updated.groupby(['user_gender','collaborator_gender'])['weight'].sum().reset_index()"
   ]
  },
  {
   "cell_type": "markdown",
   "id": "4c32d1b0",
   "metadata": {},
   "source": [
    "Females are more likely to collaborate on the same repository with females (13%) than males (6%)."
   ]
  },
  {
   "cell_type": "code",
   "execution_count": 80,
   "id": "7b75360a",
   "metadata": {},
   "outputs": [
    {
     "data": {
      "text/plain": [
       "13.20754716981132"
      ]
     },
     "execution_count": 80,
     "metadata": {},
     "output_type": "execute_result"
    }
   ],
   "source": [
    "# Percentage of females collaborating on the same repository with females\n",
    "(35/(35+230))*100"
   ]
  },
  {
   "cell_type": "code",
   "execution_count": 82,
   "id": "442b1fe5",
   "metadata": {},
   "outputs": [
    {
     "data": {
      "text/plain": [
       "6.642066420664207"
      ]
     },
     "execution_count": 82,
     "metadata": {},
     "output_type": "execute_result"
    }
   ],
   "source": [
    "# Percentage of males collaborating on the same repository with females\n",
    "(252/(252+3542))*100"
   ]
  },
  {
   "cell_type": "markdown",
   "id": "2f617856",
   "metadata": {},
   "source": [
    "Males are more likely to collaborate on the same repository with males (93%) than females (86%)."
   ]
  },
  {
   "cell_type": "code",
   "execution_count": 83,
   "id": "2b2f4531",
   "metadata": {},
   "outputs": [
    {
     "data": {
      "text/plain": [
       "93.35793357933579"
      ]
     },
     "execution_count": 83,
     "metadata": {},
     "output_type": "execute_result"
    }
   ],
   "source": [
    "# Percentage of males collaborating on the same repository with males\n",
    "(3542/(252+3542))*100"
   ]
  },
  {
   "cell_type": "code",
   "execution_count": 81,
   "id": "8ef87409",
   "metadata": {},
   "outputs": [
    {
     "data": {
      "text/plain": [
       "86.79245283018868"
      ]
     },
     "execution_count": 81,
     "metadata": {},
     "output_type": "execute_result"
    }
   ],
   "source": [
    "# Percentage of females collaborating on the same repository with males\n",
    "(230/(35+230))*100"
   ]
  }
 ],
 "metadata": {
  "kernelspec": {
   "display_name": "Python 3",
   "language": "python",
   "name": "python3"
  },
  "language_info": {
   "codemirror_mode": {
    "name": "ipython",
    "version": 3
   },
   "file_extension": ".py",
   "mimetype": "text/x-python",
   "name": "python",
   "nbconvert_exporter": "python",
   "pygments_lexer": "ipython3",
   "version": "3.8.5"
  }
 },
 "nbformat": 4,
 "nbformat_minor": 5
}
