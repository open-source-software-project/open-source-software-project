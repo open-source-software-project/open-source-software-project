{
 "cells": [
  {
   "cell_type": "code",
   "execution_count": 8,
   "id": "bb793a90",
   "metadata": {},
   "outputs": [],
   "source": [
    "import pandas as pd"
   ]
  },
  {
   "cell_type": "code",
   "execution_count": 9,
   "id": "b3b8c532",
   "metadata": {},
   "outputs": [],
   "source": [
    "import seaborn\n",
    "import matplotlib.pyplot as plt"
   ]
  },
  {
   "cell_type": "code",
   "execution_count": 10,
   "id": "9b03bba3",
   "metadata": {},
   "outputs": [],
   "source": [
    "user_node = pd.read_csv('User_node_gender_updated.csv')"
   ]
  },
  {
   "cell_type": "code",
   "execution_count": 11,
   "id": "b6ddad7e",
   "metadata": {},
   "outputs": [
    {
     "data": {
      "text/plain": [
       "1481"
      ]
     },
     "execution_count": 11,
     "metadata": {},
     "output_type": "execute_result"
    }
   ],
   "source": [
    "len(user_node)"
   ]
  },
  {
   "cell_type": "code",
   "execution_count": 12,
   "id": "6c30a341",
   "metadata": {},
   "outputs": [],
   "source": [
    "user_node = user_node[user_node['number_slugs'].notnull()]"
   ]
  },
  {
   "cell_type": "code",
   "execution_count": 13,
   "id": "581eb63e",
   "metadata": {},
   "outputs": [
    {
     "data": {
      "text/plain": [
       "1480"
      ]
     },
     "execution_count": 13,
     "metadata": {},
     "output_type": "execute_result"
    }
   ],
   "source": [
    "len(user_node)"
   ]
  },
  {
   "cell_type": "markdown",
   "id": "f6073bf3",
   "metadata": {},
   "source": [
    "Check degree by gender"
   ]
  },
  {
   "cell_type": "code",
   "execution_count": 14,
   "id": "a9079ad8",
   "metadata": {},
   "outputs": [],
   "source": [
    "degree = pd.read_csv('gephi output node centrality.csv')"
   ]
  },
  {
   "cell_type": "code",
   "execution_count": 15,
   "id": "c31ea394",
   "metadata": {},
   "outputs": [],
   "source": [
    "# Weighted degree"
   ]
  },
  {
   "cell_type": "code",
   "execution_count": 16,
   "id": "a370e9f9",
   "metadata": {},
   "outputs": [],
   "source": [
    "user_node = user_node[user_node['number_commits'].notnull()]"
   ]
  },
  {
   "cell_type": "code",
   "execution_count": 17,
   "id": "6f14fa2c",
   "metadata": {},
   "outputs": [
    {
     "data": {
      "text/plain": [
       "1480"
      ]
     },
     "execution_count": 17,
     "metadata": {},
     "output_type": "execute_result"
    }
   ],
   "source": [
    "user_node['login'].nunique()"
   ]
  },
  {
   "cell_type": "code",
   "execution_count": 18,
   "id": "96e7386f",
   "metadata": {},
   "outputs": [
    {
     "data": {
      "text/plain": [
       "1481"
      ]
     },
     "execution_count": 18,
     "metadata": {},
     "output_type": "execute_result"
    }
   ],
   "source": [
    "degree['Id'].nunique()"
   ]
  },
  {
   "cell_type": "code",
   "execution_count": 19,
   "id": "ff13f272",
   "metadata": {},
   "outputs": [],
   "source": [
    "node_degree = user_node.merge(degree, left_on='login', right_on='Id')"
   ]
  },
  {
   "cell_type": "code",
   "execution_count": 20,
   "id": "0fb923d8",
   "metadata": {},
   "outputs": [
    {
     "data": {
      "text/plain": [
       "1480"
      ]
     },
     "execution_count": 20,
     "metadata": {},
     "output_type": "execute_result"
    }
   ],
   "source": [
    "node_degree['login'].nunique()"
   ]
  },
  {
   "cell_type": "code",
   "execution_count": 25,
   "id": "e2d48843",
   "metadata": {},
   "outputs": [
    {
     "data": {
      "text/html": [
       "<div>\n",
       "<style scoped>\n",
       "    .dataframe tbody tr th:only-of-type {\n",
       "        vertical-align: middle;\n",
       "    }\n",
       "\n",
       "    .dataframe tbody tr th {\n",
       "        vertical-align: top;\n",
       "    }\n",
       "\n",
       "    .dataframe thead th {\n",
       "        text-align: right;\n",
       "    }\n",
       "</style>\n",
       "<table border=\"1\" class=\"dataframe\">\n",
       "  <thead>\n",
       "    <tr style=\"text-align: right;\">\n",
       "      <th></th>\n",
       "      <th>gender_updated</th>\n",
       "      <th>login</th>\n",
       "    </tr>\n",
       "  </thead>\n",
       "  <tbody>\n",
       "    <tr>\n",
       "      <th>1</th>\n",
       "      <td>male</td>\n",
       "      <td>735</td>\n",
       "    </tr>\n",
       "    <tr>\n",
       "      <th>3</th>\n",
       "      <td>unknown</td>\n",
       "      <td>144</td>\n",
       "    </tr>\n",
       "    <tr>\n",
       "      <th>0</th>\n",
       "      <td>female</td>\n",
       "      <td>129</td>\n",
       "    </tr>\n",
       "    <tr>\n",
       "      <th>2</th>\n",
       "      <td>other</td>\n",
       "      <td>35</td>\n",
       "    </tr>\n",
       "  </tbody>\n",
       "</table>\n",
       "</div>"
      ],
      "text/plain": [
       "  gender_updated  login\n",
       "1           male    735\n",
       "3        unknown    144\n",
       "0         female    129\n",
       "2          other     35"
      ]
     },
     "execution_count": 25,
     "metadata": {},
     "output_type": "execute_result"
    }
   ],
   "source": [
    "node_degree[node_degree['Weighted Degree'] == 0].groupby('gender_updated')['login'].nunique().reset_index().sort_values('login', ascending=False)"
   ]
  },
  {
   "cell_type": "markdown",
   "id": "d80db05f",
   "metadata": {},
   "source": [
    "Check those with 0 degrees by gender"
   ]
  },
  {
   "cell_type": "code",
   "execution_count": 27,
   "id": "111d284e",
   "metadata": {},
   "outputs": [],
   "source": [
    "degree_gender = node_degree[node_degree['Weighted Degree'] == 0].groupby('gender_updated')['login'].nunique().reset_index().sort_values('login', ascending=False)"
   ]
  },
  {
   "cell_type": "code",
   "execution_count": 28,
   "id": "617f9573",
   "metadata": {},
   "outputs": [],
   "source": [
    "degree_total = node_degree.groupby('gender_updated')['login'].nunique().reset_index().sort_values('login', ascending=False).rename(columns={'login':'total'})"
   ]
  },
  {
   "cell_type": "code",
   "execution_count": 29,
   "id": "cd1ceb28",
   "metadata": {},
   "outputs": [],
   "source": [
    "degree_gender = degree_gender.merge(degree_total, on='gender_updated')"
   ]
  },
  {
   "cell_type": "code",
   "execution_count": 30,
   "id": "3d93ac3d",
   "metadata": {},
   "outputs": [],
   "source": [
    "degree_gender['percentage'] = ((degree_gender['login'] / degree_gender['total'])*100).round(2)"
   ]
  },
  {
   "cell_type": "code",
   "execution_count": 32,
   "id": "e1282014",
   "metadata": {},
   "outputs": [],
   "source": [
    "degree_gender = degree_gender.rename(columns={'gender_updated':'gender', 'login':'zero_connections_count'})"
   ]
  },
  {
   "cell_type": "code",
   "execution_count": 33,
   "id": "31881bad",
   "metadata": {},
   "outputs": [
    {
     "data": {
      "text/html": [
       "<div>\n",
       "<style scoped>\n",
       "    .dataframe tbody tr th:only-of-type {\n",
       "        vertical-align: middle;\n",
       "    }\n",
       "\n",
       "    .dataframe tbody tr th {\n",
       "        vertical-align: top;\n",
       "    }\n",
       "\n",
       "    .dataframe thead th {\n",
       "        text-align: right;\n",
       "    }\n",
       "</style>\n",
       "<table border=\"1\" class=\"dataframe\">\n",
       "  <thead>\n",
       "    <tr style=\"text-align: right;\">\n",
       "      <th></th>\n",
       "      <th>gender</th>\n",
       "      <th>zero_connections_count</th>\n",
       "      <th>total</th>\n",
       "      <th>percentage</th>\n",
       "    </tr>\n",
       "  </thead>\n",
       "  <tbody>\n",
       "    <tr>\n",
       "      <th>0</th>\n",
       "      <td>male</td>\n",
       "      <td>735</td>\n",
       "      <td>1086</td>\n",
       "      <td>67.68</td>\n",
       "    </tr>\n",
       "    <tr>\n",
       "      <th>1</th>\n",
       "      <td>unknown</td>\n",
       "      <td>144</td>\n",
       "      <td>170</td>\n",
       "      <td>84.71</td>\n",
       "    </tr>\n",
       "    <tr>\n",
       "      <th>2</th>\n",
       "      <td>female</td>\n",
       "      <td>129</td>\n",
       "      <td>185</td>\n",
       "      <td>69.73</td>\n",
       "    </tr>\n",
       "    <tr>\n",
       "      <th>3</th>\n",
       "      <td>other</td>\n",
       "      <td>35</td>\n",
       "      <td>39</td>\n",
       "      <td>89.74</td>\n",
       "    </tr>\n",
       "  </tbody>\n",
       "</table>\n",
       "</div>"
      ],
      "text/plain": [
       "    gender  zero_connections_count  total  percentage\n",
       "0     male                     735   1086       67.68\n",
       "1  unknown                     144    170       84.71\n",
       "2   female                     129    185       69.73\n",
       "3    other                      35     39       89.74"
      ]
     },
     "execution_count": 33,
     "metadata": {},
     "output_type": "execute_result"
    }
   ],
   "source": [
    "degree_gender"
   ]
  },
  {
   "cell_type": "markdown",
   "id": "60ce8d0d",
   "metadata": {},
   "source": [
    "Slightly higher percentage of women (69.73%) has 0 connections than men (67.68%)."
   ]
  },
  {
   "cell_type": "markdown",
   "id": "2fd5bf70",
   "metadata": {},
   "source": [
    "Check the total by gender"
   ]
  },
  {
   "cell_type": "code",
   "execution_count": 39,
   "id": "84c140b8",
   "metadata": {},
   "outputs": [],
   "source": [
    "node_degree = node_degree.rename(columns={'gender_updated':'gender'})"
   ]
  },
  {
   "cell_type": "code",
   "execution_count": 41,
   "id": "90f32abe",
   "metadata": {},
   "outputs": [
    {
     "data": {
      "text/html": [
       "<div>\n",
       "<style scoped>\n",
       "    .dataframe tbody tr th:only-of-type {\n",
       "        vertical-align: middle;\n",
       "    }\n",
       "\n",
       "    .dataframe tbody tr th {\n",
       "        vertical-align: top;\n",
       "    }\n",
       "\n",
       "    .dataframe thead th {\n",
       "        text-align: right;\n",
       "    }\n",
       "</style>\n",
       "<table border=\"1\" class=\"dataframe\">\n",
       "  <thead>\n",
       "    <tr style=\"text-align: right;\">\n",
       "      <th></th>\n",
       "      <th>count</th>\n",
       "      <th>mean</th>\n",
       "      <th>std</th>\n",
       "      <th>min</th>\n",
       "      <th>25%</th>\n",
       "      <th>50%</th>\n",
       "      <th>75%</th>\n",
       "      <th>max</th>\n",
       "    </tr>\n",
       "    <tr>\n",
       "      <th>gender</th>\n",
       "      <th></th>\n",
       "      <th></th>\n",
       "      <th></th>\n",
       "      <th></th>\n",
       "      <th></th>\n",
       "      <th></th>\n",
       "      <th></th>\n",
       "      <th></th>\n",
       "    </tr>\n",
       "  </thead>\n",
       "  <tbody>\n",
       "    <tr>\n",
       "      <th>female</th>\n",
       "      <td>185.0</td>\n",
       "      <td>3.243243</td>\n",
       "      <td>13.232875</td>\n",
       "      <td>0.0</td>\n",
       "      <td>0.0</td>\n",
       "      <td>0.0</td>\n",
       "      <td>1.0</td>\n",
       "      <td>113.0</td>\n",
       "    </tr>\n",
       "    <tr>\n",
       "      <th>male</th>\n",
       "      <td>1086.0</td>\n",
       "      <td>7.345304</td>\n",
       "      <td>49.265120</td>\n",
       "      <td>0.0</td>\n",
       "      <td>0.0</td>\n",
       "      <td>0.0</td>\n",
       "      <td>1.0</td>\n",
       "      <td>1066.0</td>\n",
       "    </tr>\n",
       "    <tr>\n",
       "      <th>other</th>\n",
       "      <td>39.0</td>\n",
       "      <td>0.512821</td>\n",
       "      <td>2.722922</td>\n",
       "      <td>0.0</td>\n",
       "      <td>0.0</td>\n",
       "      <td>0.0</td>\n",
       "      <td>0.0</td>\n",
       "      <td>17.0</td>\n",
       "    </tr>\n",
       "    <tr>\n",
       "      <th>unknown</th>\n",
       "      <td>170.0</td>\n",
       "      <td>2.758824</td>\n",
       "      <td>12.734223</td>\n",
       "      <td>0.0</td>\n",
       "      <td>0.0</td>\n",
       "      <td>0.0</td>\n",
       "      <td>0.0</td>\n",
       "      <td>110.0</td>\n",
       "    </tr>\n",
       "  </tbody>\n",
       "</table>\n",
       "</div>"
      ],
      "text/plain": [
       "          count      mean        std  min  25%  50%  75%     max\n",
       "gender                                                          \n",
       "female    185.0  3.243243  13.232875  0.0  0.0  0.0  1.0   113.0\n",
       "male     1086.0  7.345304  49.265120  0.0  0.0  0.0  1.0  1066.0\n",
       "other      39.0  0.512821   2.722922  0.0  0.0  0.0  0.0    17.0\n",
       "unknown   170.0  2.758824  12.734223  0.0  0.0  0.0  0.0   110.0"
      ]
     },
     "execution_count": 41,
     "metadata": {},
     "output_type": "execute_result"
    }
   ],
   "source": [
    "node_degree.groupby('gender')['Weighted Degree'].describe()"
   ]
  },
  {
   "cell_type": "code",
   "execution_count": 42,
   "id": "d2c54a75",
   "metadata": {},
   "outputs": [
    {
     "data": {
      "text/plain": [
       "<AxesSubplot:xlabel='gender', ylabel='Weighted Degree'>"
      ]
     },
     "execution_count": 42,
     "metadata": {},
     "output_type": "execute_result"
    },
    {
     "data": {
      "image/png": "[encoded data removed]",
      "text/plain": [
       "<Figure size 432x288 with 1 Axes>"
      ]
     },
     "metadata": {
      "needs_background": "light"
     },
     "output_type": "display_data"
    }
   ],
   "source": [
    "plt.ticklabel_format(style='plain', axis='x')\n",
    "seaborn.boxplot(x='gender', y='Weighted Degree', \n",
    "            data=node_degree)"
   ]
  },
  {
   "cell_type": "code",
   "execution_count": 37,
   "id": "55f0e043",
   "metadata": {},
   "outputs": [
    {
     "data": {
      "image/png": "[encoded data removed]",
      "text/plain": [
       "<Figure size 432x288 with 1 Axes>"
      ]
     },
     "metadata": {
      "needs_background": "light"
     },
     "output_type": "display_data"
    }
   ],
   "source": [
    "ax = seaborn.histplot(x='Weighted Degree',data=node_degree,hue='gender_updated')\n",
    "ax.set_xscale('log')\n",
    "ax.set_yscale('log')\n",
    "plt.show()"
   ]
  },
  {
   "cell_type": "code",
   "execution_count": 45,
   "id": "7fbd7361",
   "metadata": {},
   "outputs": [
    {
     "data": {
      "image/png": "[encoded data removed]",
      "text/plain": [
       "<Figure size 432x288 with 1 Axes>"
      ]
     },
     "metadata": {
      "needs_background": "light"
     },
     "output_type": "display_data"
    }
   ],
   "source": [
    "seaborn.kdeplot(x='Weighted Degree',data=node_degree,hue='gender')\n",
    "plt.show()"
   ]
  },
  {
   "cell_type": "code",
   "execution_count": null,
   "id": "6f0d752d",
   "metadata": {},
   "outputs": [],
   "source": []
  }
 ],
 "metadata": {
  "kernelspec": {
   "display_name": "Python 3",
   "language": "python",
   "name": "python3"
  },
  "language_info": {
   "codemirror_mode": {
    "name": "ipython",
    "version": 3
   },
   "file_extension": ".py",
   "mimetype": "text/x-python",
   "name": "python",
   "nbconvert_exporter": "python",
   "pygments_lexer": "ipython3",
   "version": "3.8.5"
  }
 },
 "nbformat": 4,
 "nbformat_minor": 5
}
